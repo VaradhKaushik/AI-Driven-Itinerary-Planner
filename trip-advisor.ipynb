{
 "cells": [
  {
   "cell_type": "code",
   "execution_count": 1,
   "metadata": {},
   "outputs": [],
   "source": [
    "import requests\n",
    "\n",
    "key = open(\"tripkey.txt\", \"r\").readline()\n"
   ]
  },
  {
   "cell_type": "code",
   "execution_count": 2,
   "metadata": {},
   "outputs": [],
   "source": [
    "def find_location(query, category=\"attractions\"):\n",
    "\n",
    "    url = f\"https://api.content.tripadvisor.com/api/v1/location/search?&key={key}&searchQuery={query}&category={category}&language=en\"\n",
    "\n",
    "    headers = {\"accept\": \"application/json\"}\n",
    "\n",
    "    response = requests.get(url, headers=headers)\n",
    "\n",
    "    return response.text"
   ]
  },
  {
   "cell_type": "code",
   "execution_count": 5,
   "metadata": {},
   "outputs": [],
   "source": [
    "query = \"Kyoto attractions\"\n",
    "info = find_location(query)"
   ]
  },
  {
   "cell_type": "code",
   "execution_count": 6,
   "metadata": {},
   "outputs": [
    {
     "name": "stdout",
     "output_type": "stream",
     "text": [
      "{\n",
      "  \"data\": [\n",
      "    {\n",
      "      \"location_id\": \"321401\",\n",
      "      \"name\": \"Kiyomizu-dera Temple\",\n",
      "      \"address_obj\": {\n",
      "        \"street1\": \"1-294 Kiyomizu, Higashiyama-ku\",\n",
      "        \"city\": \"Kyoto\",\n",
      "        \"state\": \"Kyoto Prefecture\",\n",
      "        \"country\": \"Japan\",\n",
      "        \"postalcode\": \"605-0862\",\n",
      "        \"address_string\": \"1-294 Kiyomizu, Higashiyama-ku, Kyoto 605-0862 Kyoto Prefecture\"\n",
      "      }\n",
      "    },\n",
      "    {\n",
      "      \"location_id\": \"321456\",\n",
      "      \"name\": \"Fushimi Inari-taisha Shrine\",\n",
      "      \"address_obj\": {\n",
      "        \"street1\": \"68 Fukakusa Yabunouchicho, Fushimi-ku\",\n",
      "        \"street2\": \"\",\n",
      "        \"city\": \"Kyoto\",\n",
      "        \"state\": \"Kyoto Prefecture\",\n",
      "        \"country\": \"Japan\",\n",
      "        \"postalcode\": \"612-0882\",\n",
      "        \"address_string\": \"68 Fukakusa Yabunouchicho, Fushimi-ku, Kyoto 612-0882 Kyoto Prefecture\"\n",
      "      }\n",
      "    },\n",
      "    {\n",
      "      \"location_id\": \"321088\",\n",
      "      \"name\": \"Kyoto Imperial Palace\",\n",
      "      \"address_obj\": {\n",
      "        \"street1\": \"3 Kyoto-Gyoen, Kamigyo-Ku\",\n",
      "        \"street2\": \"\",\n",
      "        \"city\": \"Kyoto\",\n",
      "        \"state\": \"Kyoto Prefecture\",\n",
      "        \"country\": \"Japan\",\n",
      "        \"postalcode\": \"602-0881\",\n",
      "        \"address_string\": \"3 Kyoto-Gyoen, Kamigyo-Ku, Kyoto 602-0881 Kyoto Prefecture\"\n",
      "      }\n",
      "    },\n",
      "    {\n",
      "      \"location_id\": \"14927878\",\n",
      "      \"name\": \"Street Kart Kyoto\",\n",
      "      \"address_obj\": {\n",
      "        \"street1\": \"23 Kamigoryocho, Higashi Kujo, Minami-Ku\",\n",
      "        \"city\": \"Kyoto\",\n",
      "        \"state\": \"Kyoto Prefecture\",\n",
      "        \"country\": \"Japan\",\n",
      "        \"postalcode\": \"601-8015\",\n",
      "        \"address_string\": \"23 Kamigoryocho, Higashi Kujo, Minami-Ku, Kyoto 601-8015 Kyoto Prefecture\"\n",
      "      }\n",
      "    },\n",
      "    {\n",
      "      \"location_id\": \"321411\",\n",
      "      \"name\": \"Sanjusangendo Temple\",\n",
      "      \"address_obj\": {\n",
      "        \"street1\": \"657 Sanjusangendo Mawaricho, Higashiyama-Ku\",\n",
      "        \"street2\": \"\",\n",
      "        \"city\": \"Kyoto\",\n",
      "        \"state\": \"Kyoto Prefecture\",\n",
      "        \"country\": \"Japan\",\n",
      "        \"postalcode\": \"605-0941\",\n",
      "        \"address_string\": \"657 Sanjusangendo Mawaricho, Higashiyama-Ku, Kyoto 605-0941 Kyoto Prefecture\"\n",
      "      }\n",
      "    },\n",
      "    {\n",
      "      \"location_id\": \"665440\",\n",
      "      \"name\": \"Monkey Park Iwatayama\",\n",
      "      \"address_obj\": {\n",
      "        \"street1\": \"8 Genrokuyamacho, Nishikyo-ku\",\n",
      "        \"street2\": \"\",\n",
      "        \"city\": \"Kyoto\",\n",
      "        \"state\": \"Kyoto Prefecture\",\n",
      "        \"country\": \"Japan\",\n",
      "        \"postalcode\": \"616-0022\",\n",
      "        \"address_string\": \"8 Genrokuyamacho, Nishikyo-ku, Kyoto 616-0022 Kyoto Prefecture\"\n",
      "      }\n",
      "    },\n",
      "    {\n",
      "      \"location_id\": \"545940\",\n",
      "      \"name\": \"Arashiyama\",\n",
      "      \"address_obj\": {\n",
      "        \"street1\": \"Ukyo-ku\",\n",
      "        \"street2\": \"\",\n",
      "        \"city\": \"Kyoto\",\n",
      "        \"state\": \"Kyoto Prefecture\",\n",
      "        \"country\": \"Japan\",\n",
      "        \"postalcode\": \"616-0007\",\n",
      "        \"address_string\": \"Ukyo-ku, Kyoto 616-0007 Kyoto Prefecture\"\n",
      "      }\n",
      "    },\n",
      "    {\n",
      "      \"location_id\": \"25054746\",\n",
      "      \"name\": \"Mipig Cafe Kyoto\",\n",
      "      \"address_obj\": {\n",
      "        \"street1\": \"560-2 Shinkyogokudori Shijo Agaru Nakanocho, Nakagyo-ku\",\n",
      "        \"city\": \"Kyoto\",\n",
      "        \"state\": \"Kyoto Prefecture\",\n",
      "        \"country\": \"Japan\",\n",
      "        \"postalcode\": \"604-8042\",\n",
      "        \"address_string\": \"560-2 Shinkyogokudori Shijo Agaru Nakanocho, Nakagyo-ku, Kyoto 604-8042 Kyoto Prefecture\"\n",
      "      }\n",
      "    },\n",
      "    {\n",
      "      \"location_id\": \"5220110\",\n",
      "      \"name\": \"Kyoto Station Building\",\n",
      "      \"address_obj\": {\n",
      "        \"street1\": \"901 Higashishiokojicho, Shimogyo-ku\",\n",
      "        \"city\": \"Kyoto\",\n",
      "        \"state\": \"Kyoto Prefecture\",\n",
      "        \"country\": \"Japan\",\n",
      "        \"postalcode\": \"600-8216\",\n",
      "        \"address_string\": \"901 Higashishiokojicho, Shimogyo-ku, Kyoto 600-8216 Kyoto Prefecture\"\n",
      "      }\n",
      "    },\n",
      "    {\n",
      "      \"location_id\": \"7379922\",\n",
      "      \"name\": \"Kyoto Garden\",\n",
      "      \"address_obj\": {\n",
      "        \"street1\": \"Holland Park\",\n",
      "        \"city\": \"London\",\n",
      "        \"country\": \"United Kingdom\",\n",
      "        \"address_string\": \"Holland Park, London England\"\n",
      "      }\n",
      "    }\n",
      "  ]\n",
      "}\n"
     ]
    }
   ],
   "source": [
    "print(info)"
   ]
  },
  {
   "cell_type": "code",
   "execution_count": 3,
   "metadata": {},
   "outputs": [],
   "source": [
    "def get_location_details(location_id):\n",
    "\n",
    "    url = f\"https://api.content.tripadvisor.com/api/v1/location/{location_id}/details?language=en&currency=USD&key=7E083E6C9EDA4882878211116D2C7845\"\n",
    "\n",
    "    headers = {\"accept\": \"application/json\"}\n",
    "\n",
    "    response = requests.get(url, headers=headers)\n",
    "\n",
    "    return response.text"
   ]
  },
  {
   "cell_type": "code",
   "execution_count": 29,
   "metadata": {},
   "outputs": [],
   "source": [
    "loc_details = get_location_details(1373780)"
   ]
  },
  {
   "cell_type": "code",
   "execution_count": 29,
   "metadata": {},
   "outputs": [
    {
     "name": "stdout",
     "output_type": "stream",
     "text": [
      "{\n",
      "  \"location_id\": \"1373780\",\n",
      "  \"name\": \"Meiji Jingu Shrine\",\n",
      "  \"description\": \"Two, large gates frame the entrance to this Shinto shrine that was dedicated to Emperor and Empress Meiji. Completed in 1920, repairs were required after the shrine was damaged during World War II.\",\n",
      "  \"web_url\": \"https://www.tripadvisor.com/Attraction_Review-g1066456-d1373780-Reviews-Meiji_Jingu_Shrine-Shibuya_Tokyo_Tokyo_Prefecture_Kanto.html?m=66827\",\n",
      "  \"address_obj\": {\n",
      "    \"street1\": \"1-1 Yoyogi-Kamizono-cho\",\n",
      "    \"street2\": \"\",\n",
      "    \"city\": \"Shibuya\",\n",
      "    \"state\": \"Tokyo Prefecture\",\n",
      "    \"country\": \"Japan\",\n",
      "    \"postalcode\": \"151-8857\",\n",
      "    \"address_string\": \"1-1 Yoyogi-Kamizono-cho, Shibuya 151-8857 Tokyo Prefecture\"\n",
      "  },\n",
      "  \"ancestors\": [\n",
      "    {\n",
      "      \"level\": \"Municipality\",\n",
      "      \"name\": \"Shibuya\",\n",
      "      \"location_id\": \"1066456\"\n",
      "    },\n",
      "    {\n",
      "      \"level\": \"Region\",\n",
      "      \"name\": \"Tokyo\",\n",
      "      \"location_id\": \"298184\"\n",
      "    },\n",
      "    {\n",
      "      \"level\": \"State\",\n",
      "      \"name\": \"Tokyo Prefecture\",\n",
      "      \"location_id\": \"1023181\"\n",
      "    },\n",
      "    {\n",
      "      \"level\": \"Region\",\n",
      "      \"name\": \"Kanto\",\n",
      "      \"location_id\": \"298156\"\n",
      "    },\n",
      "    {\n",
      "      \"level\": \"Country\",\n",
      "      \"name\": \"Japan\",\n",
      "      \"location_id\": \"294232\"\n",
      "    }\n",
      "  ],\n",
      "  \"latitude\": \"35.676167\",\n",
      "  \"longitude\": \"139.69952\",\n",
      "  \"timezone\": \"Asia/Tokyo\",\n",
      "  \"website\": \"http://www.meijijingu.or.jp/english/index.html\",\n",
      "  \"write_review\": \"https://www.tripadvisor.com/UserReview-g1066456-d1373780-Meiji_Jingu_Shrine-Shibuya_Tokyo_Tokyo_Prefecture_Kanto.html?m=66827\",\n",
      "  \"ranking_data\": {\n",
      "    \"geo_location_id\": \"1066456\",\n",
      "    \"ranking_string\": \"#3 of 345 things to do in Shibuya\",\n",
      "    \"geo_location_name\": \"Shibuya\",\n",
      "    \"ranking_out_of\": \"345\",\n",
      "    \"ranking\": \"3\"\n",
      "  },\n",
      "  \"rating\": \"4.5\",\n",
      "  \"rating_image_url\": \"https://www.tripadvisor.com/img/cdsi/img2/ratings/traveler/4.5-66827-5.svg\",\n",
      "  \"num_reviews\": \"8299\",\n",
      "  \"review_rating_count\": {\n",
      "    \"1\": \"19\",\n",
      "    \"2\": \"54\",\n",
      "    \"3\": \"648\",\n",
      "    \"4\": \"3140\",\n",
      "    \"5\": \"4438\"\n",
      "  },\n",
      "  \"photo_count\": \"11184\",\n",
      "  \"see_all_photos\": \"https://www.tripadvisor.com/Attraction_Review-g1066456-d1373780-m66827-Reviews-Meiji_Jingu_Shrine-Shibuya_Tokyo_Tokyo_Prefecture_Kanto.html#photos\",\n",
      "  \"category\": {\n",
      "    \"name\": \"attraction\",\n",
      "    \"localized_name\": \"Attraction\"\n",
      "  },\n",
      "  \"subcategory\": [\n",
      "    {\n",
      "      \"name\": \"landmarks\",\n",
      "      \"localized_name\": \"Sights & Landmarks\"\n",
      "    },\n",
      "    {\n",
      "      \"name\": \"attractions\",\n",
      "      \"localized_name\": \"Attractions\"\n",
      "    }\n",
      "  ],\n",
      "  \"groups\": [\n",
      "    {\n",
      "      \"name\": \"Sights & Landmarks\",\n",
      "      \"localized_name\": \"Sights & Landmarks\",\n",
      "      \"categories\": [\n",
      "        {\n",
      "          \"name\": \"Points of Interest & Landmarks\",\n",
      "          \"localized_name\": \"Points of Interest & Landmarks\"\n",
      "        }\n",
      "      ]\n",
      "    }\n",
      "  ],\n",
      "  \"neighborhood_info\": [\n",
      "    {\n",
      "      \"location_id\": \"7278771\",\n",
      "      \"name\": \"Shibuya / Harajuku / Ebisu\"\n",
      "    }\n",
      "  ],\n",
      "  \"trip_types\": [\n",
      "    {\n",
      "      \"name\": \"business\",\n",
      "      \"localized_name\": \"Business\",\n",
      "      \"value\": \"198\"\n",
      "    },\n",
      "    {\n",
      "      \"name\": \"couples\",\n",
      "      \"localized_name\": \"Couples\",\n",
      "      \"value\": \"2305\"\n",
      "    },\n",
      "    {\n",
      "      \"name\": \"solo\",\n",
      "      \"localized_name\": \"Solo travel\",\n",
      "      \"value\": \"1382\"\n",
      "    },\n",
      "    {\n",
      "      \"name\": \"family\",\n",
      "      \"localized_name\": \"Family\",\n",
      "      \"value\": \"1496\"\n",
      "    },\n",
      "    {\n",
      "      \"name\": \"friends\",\n",
      "      \"localized_name\": \"Friends getaway\",\n",
      "      \"value\": \"1541\"\n",
      "    }\n",
      "  ],\n",
      "  \"awards\": [\n",
      "    {\n",
      "      \"award_type\": \"Travelers Choice\",\n",
      "      \"year\": \"2023\",\n",
      "      \"images\": {\n",
      "        \"tiny\": \"https://static.tacdn.com/img2/travelers_choice/widgets/tchotel_2023_L.png\",\n",
      "        \"small\": \"https://static.tacdn.com/img2/travelers_choice/widgets/tchotel_2023_L.png\",\n",
      "        \"large\": \"https://static.tacdn.com/img2/travelers_choice/widgets/tchotel_2023_L.png\"\n",
      "      },\n",
      "      \"categories\": [],\n",
      "      \"display_name\": \"Travelers Choice\"\n",
      "    }\n",
      "  ]\n",
      "}\n"
     ]
    }
   ],
   "source": [
    "print(loc_details)"
   ]
  },
  {
   "cell_type": "code",
   "execution_count": 8,
   "metadata": {},
   "outputs": [],
   "source": [
    "import json\n",
    "\n",
    "location_dict = json.loads(info)"
   ]
  },
  {
   "cell_type": "code",
   "execution_count": 9,
   "metadata": {},
   "outputs": [
    {
     "name": "stdout",
     "output_type": "stream",
     "text": [
      "Kiyomizu-dera Temple\n",
      "Fushimi Inari-taisha Shrine\n",
      "Kyoto Imperial Palace\n",
      "Street Kart Kyoto\n",
      "Sanjusangendo Temple\n",
      "Monkey Park Iwatayama\n",
      "Arashiyama\n",
      "Mipig Cafe Kyoto\n",
      "Kyoto Station Building\n",
      "Kyoto Garden\n"
     ]
    }
   ],
   "source": [
    "for i in range (0, 10):\n",
    "    print(location_dict[\"data\"][i][\"name\"])\n"
   ]
  },
  {
   "cell_type": "code",
   "execution_count": 10,
   "metadata": {},
   "outputs": [],
   "source": [
    "location_details = []\n",
    "for i in range(len(location_dict[\"data\"])):\n",
    "    location_details.append(json.loads(get_location_details(location_dict[\"data\"][i][\"location_id\"])))\n"
   ]
  },
  {
   "cell_type": "code",
   "execution_count": 13,
   "metadata": {},
   "outputs": [
    {
     "name": "stdout",
     "output_type": "stream",
     "text": [
      "{'location_id': '321401', 'name': 'Kiyomizu-dera Temple', 'description': \"This most-visited temple in Kyoto was built to honor Kannon, the goddess of mercy. It's beautiful hillside location offers spectacular views of the city and valley below.\", 'web_url': 'https://www.tripadvisor.com/Attraction_Review-g298564-d321401-Reviews-Kiyomizu_dera_Temple-Kyoto_Kyoto_Prefecture_Kinki.html?m=66827', 'address_obj': {'street1': '1-294 Kiyomizu, Higashiyama-ku', 'city': 'Kyoto', 'state': 'Kyoto Prefecture', 'country': 'Japan', 'postalcode': '605-0862', 'address_string': '1-294 Kiyomizu, Higashiyama-ku, Kyoto 605-0862 Kyoto Prefecture'}, 'ancestors': [{'level': 'Municipality', 'name': 'Kyoto', 'location_id': '298564'}, {'level': 'State', 'name': 'Kyoto Prefecture', 'location_id': '298563'}, {'level': 'Region', 'name': 'Kinki', 'location_id': '298189'}, {'level': 'Country', 'name': 'Japan', 'location_id': '294232'}], 'latitude': '34.994873', 'longitude': '135.78497', 'timezone': 'Asia/Tokyo', 'phone': '+81 75-551-1234', 'website': 'https://www.kiyomizudera.or.jp/', 'write_review': 'https://www.tripadvisor.com/UserReview-g298564-d321401-Kiyomizu_dera_Temple-Kyoto_Kyoto_Prefecture_Kinki.html?m=66827', 'ranking_data': {'geo_location_id': '298564', 'ranking_string': '#3 of 2,056 things to do in Kyoto', 'geo_location_name': 'Kyoto', 'ranking_out_of': '2056', 'ranking': '3'}, 'rating': '4.5', 'rating_image_url': 'https://www.tripadvisor.com/img/cdsi/img2/ratings/traveler/4.5-66827-5.svg', 'num_reviews': '11672', 'review_rating_count': {'1': '44', '2': '163', '3': '1142', '4': '3935', '5': '6389'}, 'photo_count': '15334', 'see_all_photos': 'https://www.tripadvisor.com/Attraction_Review-g298564-d321401-m66827-Reviews-Kiyomizu_dera_Temple-Kyoto_Kyoto_Prefecture_Kinki.html#photos', 'hours': {'periods': [{'open': {'day': 1, 'time': '0600'}, 'close': {'day': 1, 'time': '1800'}}, {'open': {'day': 2, 'time': '0600'}, 'close': {'day': 2, 'time': '1800'}}, {'open': {'day': 3, 'time': '0600'}, 'close': {'day': 3, 'time': '1800'}}, {'open': {'day': 4, 'time': '0600'}, 'close': {'day': 4, 'time': '1800'}}, {'open': {'day': 5, 'time': '0600'}, 'close': {'day': 5, 'time': '1800'}}, {'open': {'day': 6, 'time': '0600'}, 'close': {'day': 6, 'time': '1800'}}, {'open': {'day': 7, 'time': '0600'}, 'close': {'day': 7, 'time': '1800'}}], 'weekday_text': ['Monday: 06:00 - 18:00', 'Tuesday: 06:00 - 18:00', 'Wednesday: 06:00 - 18:00', 'Thursday: 06:00 - 18:00', 'Friday: 06:00 - 18:00', 'Saturday: 06:00 - 18:00', 'Sunday: 06:00 - 18:00']}, 'category': {'name': 'attraction', 'localized_name': 'Attraction'}, 'subcategory': [{'name': 'landmarks', 'localized_name': 'Sights & Landmarks'}, {'name': 'attractions', 'localized_name': 'Attractions'}], 'groups': [{'name': 'Sights & Landmarks', 'localized_name': 'Sights & Landmarks', 'categories': [{'name': 'Sacred & Religious Sites', 'localized_name': 'Sacred & Religious Sites'}, {'name': 'Points of Interest & Landmarks', 'localized_name': 'Points of Interest & Landmarks'}, {'name': 'Historic Sites', 'localized_name': 'Historic Sites'}]}], 'neighborhood_info': [], 'trip_types': [{'name': 'business', 'localized_name': 'Business', 'value': '207'}, {'name': 'couples', 'localized_name': 'Couples', 'value': '3228'}, {'name': 'solo', 'localized_name': 'Solo travel', 'value': '1437'}, {'name': 'family', 'localized_name': 'Family', 'value': '2666'}, {'name': 'friends', 'localized_name': 'Friends getaway', 'value': '2292'}], 'awards': [{'award_type': 'Travelers Choice Best of the Best', 'year': '2023', 'images': {'tiny': 'https://static.tacdn.com/img2/travelers_choice/widgets/tchotel_bob_2023_L.png', 'small': 'https://static.tacdn.com/img2/travelers_choice/widgets/tchotel_bob_2023_L.png', 'large': 'https://static.tacdn.com/img2/travelers_choice/widgets/tchotel_bob_2023_L.png'}, 'categories': ['TopAttractions'], 'display_name': 'Travelers Choice Best of the Best'}, {'award_type': 'Travelers Choice', 'year': '2023', 'images': {'tiny': 'https://static.tacdn.com/img2/travelers_choice/widgets/tchotel_2023_L.png', 'small': 'https://static.tacdn.com/img2/travelers_choice/widgets/tchotel_2023_L.png', 'large': 'https://static.tacdn.com/img2/travelers_choice/widgets/tchotel_2023_L.png'}, 'categories': [], 'display_name': 'Travelers Choice'}]}\n"
     ]
    }
   ],
   "source": [
    "print(location_details[0])"
   ]
  },
  {
   "cell_type": "code",
   "execution_count": 4,
   "metadata": {},
   "outputs": [],
   "source": [
    "def remove_keys(data, keys_to_remove):\n",
    "    \"\"\" Recursively remove keys from a dictionary \"\"\"\n",
    "    if isinstance(data, dict):\n",
    "        return {\n",
    "            key: remove_keys(value, keys_to_remove)\n",
    "            for key, value in data.items()\n",
    "            if key not in keys_to_remove\n",
    "        }\n",
    "    elif isinstance(data, list):\n",
    "        return [remove_keys(item, keys_to_remove) for item in data]\n",
    "    else:\n",
    "        return data\n",
    "\n",
    "\n",
    "keys_to_remove = [\n",
    "    \"web_url\", \"ancestors\", \"timezone\", \"write_review\", \"rating_image_url\",\n",
    "    \"num_reviews\", \"review_rating_count\", \"photo_count\", \"see_all_photos\", \n",
    "    \"groups\", \"awards\", \"neighborhood_info\", \"phone\", \"ranking_data\", \"hours\"\n",
    "]\n",
    "\n",
    "# Now, use the function to clean the dictionary\n"
   ]
  },
  {
   "cell_type": "code",
   "execution_count": 38,
   "metadata": {},
   "outputs": [
    {
     "name": "stdout",
     "output_type": "stream",
     "text": [
      "{'location_id': '321401', 'name': 'Kiyomizu-dera Temple', 'description': \"This most-visited temple in Kyoto was built to honor Kannon, the goddess of mercy. It's beautiful hillside location offers spectacular views of the city and valley below.\", 'address_obj': {'street1': '1-294 Kiyomizu, Higashiyama-ku', 'city': 'Kyoto', 'state': 'Kyoto Prefecture', 'country': 'Japan', 'postalcode': '605-0862', 'address_string': '1-294 Kiyomizu, Higashiyama-ku, Kyoto 605-0862 Kyoto Prefecture'}, 'latitude': '34.994873', 'longitude': '135.78497', 'website': 'https://www.kiyomizudera.or.jp/', 'rating': '4.5', 'category': {'name': 'attraction', 'localized_name': 'Attraction'}, 'subcategory': [{'name': 'landmarks', 'localized_name': 'Sights & Landmarks'}, {'name': 'attractions', 'localized_name': 'Attractions'}], 'trip_types': [{'name': 'business', 'localized_name': 'Business', 'value': '207'}, {'name': 'couples', 'localized_name': 'Couples', 'value': '3228'}, {'name': 'solo', 'localized_name': 'Solo travel', 'value': '1437'}, {'name': 'family', 'localized_name': 'Family', 'value': '2666'}, {'name': 'friends', 'localized_name': 'Friends getaway', 'value': '2292'}]}\n"
     ]
    }
   ],
   "source": [
    "data = json.load(open(\"tokyo_attractions.json\", \"r\"))\n",
    "cleaned_data = remove_keys(location_details, keys_to_remove)\n",
    "print(cleaned_data[0])"
   ]
  },
  {
   "cell_type": "code",
   "execution_count": 39,
   "metadata": {},
   "outputs": [],
   "source": [
    "def save_json(data, filename):\n",
    "    with open(filename, \"w\") as f:\n",
    "        json.dump(data, f)\n",
    "        print(\"Data saved to\", filename)"
   ]
  },
  {
   "cell_type": "code",
   "execution_count": 40,
   "metadata": {},
   "outputs": [
    {
     "name": "stdout",
     "output_type": "stream",
     "text": [
      "Data saved to tokyo_attractions.json\n"
     ]
    }
   ],
   "source": [
    "save_json(location_details, f\"{query.replace(' ', '_')}.json\")"
   ]
  },
  {
   "cell_type": "code",
   "execution_count": 5,
   "metadata": {},
   "outputs": [],
   "source": [
    "def format_location(location_dict):\n",
    "    locationString = location_dict[\"name\"] if \"name\" in location_dict else \"Unknown name\"\n",
    "    for key, value in location_dict.items():\n",
    "        if key == \"address_obj\":\n",
    "            locationString += \". Address: \" + value[\"address_string\"] + \", \" + value[\"country\"]\n",
    "        elif key == \"category\":\n",
    "            locationString += \", Category: \" + value[\"name\"]\n",
    "        elif key == \"subcategory\":\n",
    "            locationString += \", Sub category: \" + value[0][\"name\"]\n",
    "        elif key == \"trip_types\":\n",
    "            locationString += \". Trip types: \"\n",
    "            for trip_type in value:\n",
    "                locationString += trip_type[\"name\"] + \", \"\n",
    "        else:\n",
    "            locationString += f\". {key}: \" + value\n",
    "    \n",
    "    locationString\t= locationString.strip(\", \").replace(\"\\n\", \" \")\n",
    "    locationString += \".\\n\"\n",
    "    return locationString\n"
   ]
  },
  {
   "cell_type": "code",
   "execution_count": 31,
   "metadata": {},
   "outputs": [
    {
     "data": {
      "text/plain": [
       "'Street Kart Kyoto. location_id: 14927878. name: Street Kart Kyoto. description: Take On A Street Go-Kart Thru Kyoto! Extremely exciting and a must have experience when you visit Kyoto Japan. Just imagine yourself on a custom made go kart specifically tailored to realize the Real Life SuperHero Go-Karting experience! Dress up in your favorite character costume, playing the music of your choice and driving through the city of Kyoto!!. Address: 23 Kamigoryocho, Higashi Kujo, Minami-Ku, Kyoto 601-8015 Kyoto Prefecture, Japan. latitude: 34.98043. longitude: 135.76224. email: maricarosaka@gmail.com. website: https://kart.st/jp/kyoto.html. rating: 5.0, Category: attraction, Sub category: sightseeing_tours. Trip types: business, couples, solo, family, friends.\\n'"
      ]
     },
     "execution_count": 31,
     "metadata": {},
     "output_type": "execute_result"
    }
   ],
   "source": [
    "format_location(cleaned_data[3])"
   ]
  },
  {
   "cell_type": "code",
   "execution_count": 39,
   "metadata": {},
   "outputs": [],
   "source": [
    "with open(\"locations.txt\", \"a\") as f:\n",
    "    for i in range(len(cleaned_data)):\n",
    "        f.write(format_location(cleaned_data[i]))"
   ]
  },
  {
   "cell_type": "code",
   "execution_count": 8,
   "metadata": {},
   "outputs": [],
   "source": [
    "import json"
   ]
  },
  {
   "cell_type": "code",
   "execution_count": 38,
   "metadata": {},
   "outputs": [],
   "source": [
    "query = \"Paris sights\"\n",
    "locations = find_location(query)\n"
   ]
  },
  {
   "cell_type": "code",
   "execution_count": 39,
   "metadata": {},
   "outputs": [
    {
     "name": "stdout",
     "output_type": "stream",
     "text": [
      "{\n",
      "  \"data\": [\n",
      "    {\n",
      "      \"location_id\": \"1520118\",\n",
      "      \"name\": \"Sight Seeker's Paris\",\n",
      "      \"address_obj\": {\n",
      "        \"street2\": \"\",\n",
      "        \"city\": \"Paris\",\n",
      "        \"country\": \"France\",\n",
      "        \"address_string\": \"Paris France\"\n",
      "      }\n",
      "    },\n",
      "    {\n",
      "      \"location_id\": \"188151\",\n",
      "      \"name\": \"Eiffel Tower\",\n",
      "      \"address_obj\": {\n",
      "        \"street1\": \"5 Avenue\",\n",
      "        \"city\": \"Paris\",\n",
      "        \"country\": \"France\",\n",
      "        \"postalcode\": \"75007\",\n",
      "        \"address_string\": \"5 Avenue, 75007 Paris France\"\n",
      "      }\n",
      "    },\n",
      "    {\n",
      "      \"location_id\": \"2038979\",\n",
      "      \"name\": \"Paris Charms & Secrets Tours\",\n",
      "      \"address_obj\": {\n",
      "        \"street1\": \"Place Vendome\",\n",
      "        \"street2\": \"(Meeting Point)\",\n",
      "        \"city\": \"Paris\",\n",
      "        \"country\": \"France\",\n",
      "        \"postalcode\": \"75001\",\n",
      "        \"address_string\": \"Place Vendome (Meeting Point), 75001 Paris France\"\n",
      "      }\n",
      "    },\n",
      "    {\n",
      "      \"location_id\": \"189229\",\n",
      "      \"name\": \"The Paris Catacombs\",\n",
      "      \"address_obj\": {\n",
      "        \"street1\": \"1 Avenue du Colonel Henri Rol-Tanguy\",\n",
      "        \"city\": \"Paris\",\n",
      "        \"country\": \"France\",\n",
      "        \"postalcode\": \"75014\",\n",
      "        \"address_string\": \"1 Avenue du Colonel Henri Rol-Tanguy, 75014 Paris France\"\n",
      "      }\n",
      "    },\n",
      "    {\n",
      "      \"location_id\": \"1008070\",\n",
      "      \"name\": \"Big Bus Paris\",\n",
      "      \"address_obj\": {\n",
      "        \"street1\": \"11 avenue de l Opera\",\n",
      "        \"street2\": \"Stop 1\",\n",
      "        \"city\": \"Paris\",\n",
      "        \"country\": \"France\",\n",
      "        \"postalcode\": \"75001\",\n",
      "        \"address_string\": \"11 avenue de l Opera Stop 1, 75001 Paris France\"\n",
      "      }\n",
      "    },\n",
      "    {\n",
      "      \"location_id\": \"188679\",\n",
      "      \"name\": \"Cathedrale Notre-Dame de Paris\",\n",
      "      \"address_obj\": {\n",
      "        \"street1\": \"6 Parvis Notre-Dame\",\n",
      "        \"street2\": \"Place Jean-Paul II\",\n",
      "        \"city\": \"Paris\",\n",
      "        \"country\": \"France\",\n",
      "        \"postalcode\": \"75004\",\n",
      "        \"address_string\": \"6 Parvis Notre-Dame Place Jean-Paul II, 75004 Paris France\"\n",
      "      }\n",
      "    },\n",
      "    {\n",
      "      \"location_id\": \"188146\",\n",
      "      \"name\": \"7eme Arrondissement\",\n",
      "      \"address_obj\": {\n",
      "        \"city\": \"Paris\",\n",
      "        \"country\": \"France\",\n",
      "        \"address_string\": \"Paris France\"\n",
      "      }\n",
      "    },\n",
      "    {\n",
      "      \"location_id\": \"191240\",\n",
      "      \"name\": \"Saint Germain des Pres Quarter\",\n",
      "      \"address_obj\": {\n",
      "        \"street1\": \"Place St-Germain-des-Pres\",\n",
      "        \"street2\": \"\",\n",
      "        \"city\": \"Paris\",\n",
      "        \"country\": \"France\",\n",
      "        \"postalcode\": \"75006\",\n",
      "        \"address_string\": \"Place St-Germain-des-Pres, 75006 Paris France\"\n",
      "      }\n",
      "    },\n",
      "    {\n",
      "      \"location_id\": \"585912\",\n",
      "      \"name\": \"Tootbus Paris\",\n",
      "      \"address_obj\": {\n",
      "        \"street1\": \"12 rue Auber\",\n",
      "        \"city\": \"Paris\",\n",
      "        \"country\": \"France\",\n",
      "        \"postalcode\": \"75009\",\n",
      "        \"address_string\": \"12 rue Auber, 75009 Paris France\"\n",
      "      }\n",
      "    },\n",
      "    {\n",
      "      \"location_id\": \"10720285\",\n",
      "      \"name\": \"Golf Cart in Paris\",\n",
      "      \"address_obj\": {\n",
      "        \"city\": \"Paris\",\n",
      "        \"country\": \"France\",\n",
      "        \"address_string\": \"Paris France\"\n",
      "      }\n",
      "    }\n",
      "  ]\n",
      "}\n"
     ]
    }
   ],
   "source": [
    "print(locations)"
   ]
  },
  {
   "cell_type": "code",
   "execution_count": 40,
   "metadata": {},
   "outputs": [],
   "source": [
    "location_dict = json.loads(locations)\n",
    "location_details = []\n",
    "for i in range(len(location_dict[\"data\"])):\n",
    "    location_details.append(json.loads(get_location_details(location_dict[\"data\"][i][\"location_id\"])))"
   ]
  },
  {
   "cell_type": "code",
   "execution_count": 41,
   "metadata": {},
   "outputs": [
    {
     "name": "stdout",
     "output_type": "stream",
     "text": [
      "[{'location_id': '1520118', 'name': \"Sight Seeker's Paris\", 'description': '\"Edu-tainment\" Paris walking tours: education + entertainment in small group tours of all major Paris attractions. Join one of our 14 unique tours to see what everyone is raving about: from classic Paris introductory walks to food tours to museum tours, we\\'re here to share Paris with you in a fun, informative way! Paris Virtual Experiences: Your friends in Paris bring you history— All from the comfort of your own home! Envision yourself in Paris through authentic, vintage and vibrant, current photos of each location, person and topic discussed.', 'web_url': 'https://www.tripadvisor.com/Attraction_Review-g187147-d1520118-Reviews-Sight_Seeker_s_Paris-Paris_Ile_de_France.html?m=66827', 'address_obj': {'street2': '', 'city': 'Paris', 'country': 'France', 'address_string': 'Paris France'}, 'ancestors': [{'level': 'City', 'name': 'Paris', 'location_id': '187147'}, {'level': 'Region', 'name': 'Ile-de-France', 'location_id': '187144'}, {'level': 'Country', 'name': 'France', 'location_id': '187070'}], 'latitude': '48.867092', 'longitude': '2.31373', 'timezone': 'Europe/Paris', 'email': 'info@sightseekersparis.com', 'phone': '+33 6 22 52 57 90', 'website': 'http://sightseekersparis.com', 'write_review': 'https://www.tripadvisor.com/UserReview-g187147-d1520118-Sight_Seeker_s_Paris-Paris_Ile_de_France.html?m=66827', 'ranking_data': {'geo_location_id': '187147', 'ranking_string': '#93 of 1,906 Tours in Paris', 'geo_location_name': 'Paris', 'ranking_out_of': '1906', 'ranking': '93'}, 'rating': '5.0', 'rating_image_url': 'https://www.tripadvisor.com/img/cdsi/img2/ratings/traveler/5.0-66827-5.svg', 'num_reviews': '2028', 'review_rating_count': {'1': '2', '2': '4', '3': '17', '4': '130', '5': '1875'}, 'photo_count': '602', 'see_all_photos': 'https://www.tripadvisor.com/Attraction_Review-g187147-d1520118-m66827-Reviews-Sight_Seeker_s_Paris-Paris_Ile_de_France.html#photos', 'category': {'name': 'attraction', 'localized_name': 'Attraction'}, 'subcategory': [{'name': 'sightseeing_tours', 'localized_name': 'Tours'}, {'name': 'activities', 'localized_name': 'Activities'}], 'groups': [{'name': 'Tours', 'localized_name': 'Tours', 'categories': [{'name': 'Walking Tours', 'localized_name': 'Walking Tours'}]}], 'neighborhood_info': [{'location_id': '7236770', 'name': 'Champs-Elysees'}, {'location_id': '15621630', 'name': '8th Arr. - Elysee'}, {'location_id': '15621555', 'name': 'Champs-Elysees Quartier'}], 'trip_types': [{'name': 'business', 'localized_name': 'Business', 'value': '22'}, {'name': 'couples', 'localized_name': 'Couples', 'value': '651'}, {'name': 'solo', 'localized_name': 'Solo travel', 'value': '177'}, {'name': 'family', 'localized_name': 'Family', 'value': '351'}, {'name': 'friends', 'localized_name': 'Friends getaway', 'value': '255'}], 'awards': []}, {'location_id': '188151', 'name': 'Eiffel Tower', 'description': 'Completed in 1889, this colossal landmark, although initially hated by many Parisians, is now a famous symbol of French civic pride.', 'web_url': 'https://www.tripadvisor.com/Attraction_Review-g187147-d188151-Reviews-Eiffel_Tower-Paris_Ile_de_France.html?m=66827', 'address_obj': {'street1': '5 Avenue', 'city': 'Paris', 'country': 'France', 'postalcode': '75007', 'address_string': '5 Avenue, 75007 Paris France'}, 'ancestors': [{'level': 'City', 'name': 'Paris', 'location_id': '187147'}, {'level': 'Region', 'name': 'Ile-de-France', 'location_id': '187144'}, {'level': 'Country', 'name': 'France', 'location_id': '187070'}], 'latitude': '48.858353', 'longitude': '2.294464', 'timezone': 'Europe/Paris', 'phone': '+33 892 70 12 39', 'website': 'https://www.toureiffel.paris/', 'write_review': 'https://www.tripadvisor.com/UserReview-g187147-d188151-Eiffel_Tower-Paris_Ile_de_France.html?m=66827', 'ranking_data': {'geo_location_id': '187147', 'ranking_string': '#13 of 3,552 things to do in Paris', 'geo_location_name': 'Paris', 'ranking_out_of': '3552', 'ranking': '13'}, 'rating': '4.5', 'rating_image_url': 'https://www.tripadvisor.com/img/cdsi/img2/ratings/traveler/4.5-66827-5.svg', 'num_reviews': '142254', 'review_rating_count': {'1': '1394', '2': '1919', '3': '8745', '4': '29818', '5': '100374'}, 'photo_count': '103885', 'see_all_photos': 'https://www.tripadvisor.com/Attraction_Review-g187147-d188151-m66827-Reviews-Eiffel_Tower-Paris_Ile_de_France.html#photos', 'hours': {'periods': [{'open': {'day': 1, 'time': '0900'}, 'close': {'day': 1, 'time': '2345'}}, {'open': {'day': 2, 'time': '0900'}, 'close': {'day': 2, 'time': '2345'}}, {'open': {'day': 3, 'time': '0900'}, 'close': {'day': 3, 'time': '2345'}}, {'open': {'day': 4, 'time': '0900'}, 'close': {'day': 4, 'time': '2345'}}, {'open': {'day': 5, 'time': '0900'}, 'close': {'day': 5, 'time': '2345'}}, {'open': {'day': 6, 'time': '0900'}, 'close': {'day': 6, 'time': '2345'}}, {'open': {'day': 7, 'time': '0900'}, 'close': {'day': 7, 'time': '2345'}}], 'weekday_text': ['Monday: 09:00 - 23:45', 'Tuesday: 09:00 - 23:45', 'Wednesday: 09:00 - 23:45', 'Thursday: 09:00 - 23:45', 'Friday: 09:00 - 23:45', 'Saturday: 09:00 - 23:45', 'Sunday: 09:00 - 23:45']}, 'category': {'name': 'attraction', 'localized_name': 'Attraction'}, 'subcategory': [{'name': 'landmarks', 'localized_name': 'Sights & Landmarks'}, {'name': 'attractions', 'localized_name': 'Attractions'}], 'groups': [{'name': 'Sights & Landmarks', 'localized_name': 'Sights & Landmarks', 'categories': [{'name': 'Points of Interest & Landmarks', 'localized_name': 'Points of Interest & Landmarks'}, {'name': 'Observation Decks & Towers', 'localized_name': 'Observation Decks & Towers'}]}], 'neighborhood_info': [{'location_id': '15621622', 'name': 'Gros-Caillou'}, {'location_id': '7236767', 'name': 'Tour Eiffel / Invalides'}, {'location_id': '15621644', 'name': '7th Arr. - Palais-Bourbon'}], 'trip_types': [{'name': 'business', 'localized_name': 'Business', 'value': '2504'}, {'name': 'couples', 'localized_name': 'Couples', 'value': '54841'}, {'name': 'solo', 'localized_name': 'Solo travel', 'value': '7933'}, {'name': 'family', 'localized_name': 'Family', 'value': '35297'}, {'name': 'friends', 'localized_name': 'Friends getaway', 'value': '21623'}], 'awards': [{'award_type': 'Travelers Choice Best of the Best', 'year': '2023', 'images': {'tiny': 'https://static.tacdn.com/img2/travelers_choice/widgets/tchotel_bob_2023_L.png', 'small': 'https://static.tacdn.com/img2/travelers_choice/widgets/tchotel_bob_2023_L.png', 'large': 'https://static.tacdn.com/img2/travelers_choice/widgets/tchotel_bob_2023_L.png'}, 'categories': ['TopAttractions'], 'display_name': 'Travelers Choice Best of the Best'}, {'award_type': 'Travelers Choice', 'year': '2023', 'images': {'tiny': 'https://static.tacdn.com/img2/travelers_choice/widgets/tchotel_2023_L.png', 'small': 'https://static.tacdn.com/img2/travelers_choice/widgets/tchotel_2023_L.png', 'large': 'https://static.tacdn.com/img2/travelers_choice/widgets/tchotel_2023_L.png'}, 'categories': [], 'display_name': 'Travelers Choice'}]}, {'location_id': '2038979', 'name': 'Paris Charms & Secrets Tours', 'web_url': 'https://www.tripadvisor.com/Attraction_Review-g187147-d2038979-Reviews-Paris_Charms_Secrets_Tours-Paris_Ile_de_France.html?m=66827', 'address_obj': {'street1': 'Place Vendome', 'street2': '(Meeting Point)', 'city': 'Paris', 'country': 'France', 'postalcode': '75001', 'address_string': 'Place Vendome (Meeting Point), 75001 Paris France'}, 'ancestors': [{'level': 'City', 'name': 'Paris', 'location_id': '187147'}, {'level': 'Region', 'name': 'Ile-de-France', 'location_id': '187144'}, {'level': 'Country', 'name': 'France', 'location_id': '187070'}], 'latitude': '48.86714', 'longitude': '2.329509', 'timezone': 'Europe/Paris', 'email': 'contact@parischarmssecrets.com', 'phone': '+33 1 40 29 00 00', 'website': 'http://www.parischarmssecrets.com', 'write_review': 'https://www.tripadvisor.com/UserReview-g187147-d2038979-Paris_Charms_Secrets_Tours-Paris_Ile_de_France.html?m=66827', 'ranking_data': {'geo_location_id': '187147', 'ranking_string': '#3 of 1,906 Tours in Paris', 'geo_location_name': 'Paris', 'ranking_out_of': '1906', 'ranking': '3'}, 'rating': '5.0', 'rating_image_url': 'https://www.tripadvisor.com/img/cdsi/img2/ratings/traveler/5.0-66827-5.svg', 'num_reviews': '6278', 'review_rating_count': {'1': '0', '2': '6', '3': '7', '4': '86', '5': '6180'}, 'photo_count': '2357', 'see_all_photos': 'https://www.tripadvisor.com/Attraction_Review-g187147-d2038979-m66827-Reviews-Paris_Charms_Secrets_Tours-Paris_Ile_de_France.html#photos', 'hours': {'periods': [{'open': {'day': 1, 'time': '0900'}, 'close': {'day': 1, 'time': '1300'}}, {'open': {'day': 1, 'time': '1430'}, 'close': {'day': 1, 'time': '1830'}}, {'open': {'day': 1, 'time': '2000'}, 'close': {'day': 1, 'time': '2330'}}, {'open': {'day': 2, 'time': '0900'}, 'close': {'day': 2, 'time': '1300'}}, {'open': {'day': 2, 'time': '1430'}, 'close': {'day': 2, 'time': '1830'}}, {'open': {'day': 2, 'time': '2000'}, 'close': {'day': 2, 'time': '2330'}}, {'open': {'day': 3, 'time': '0900'}, 'close': {'day': 3, 'time': '1300'}}, {'open': {'day': 3, 'time': '1430'}, 'close': {'day': 3, 'time': '1830'}}, {'open': {'day': 3, 'time': '2000'}, 'close': {'day': 3, 'time': '2330'}}, {'open': {'day': 4, 'time': '0900'}, 'close': {'day': 4, 'time': '1300'}}, {'open': {'day': 4, 'time': '1430'}, 'close': {'day': 4, 'time': '1830'}}, {'open': {'day': 4, 'time': '2000'}, 'close': {'day': 4, 'time': '2330'}}, {'open': {'day': 5, 'time': '0900'}, 'close': {'day': 5, 'time': '1300'}}, {'open': {'day': 5, 'time': '1430'}, 'close': {'day': 5, 'time': '1830'}}, {'open': {'day': 5, 'time': '2000'}, 'close': {'day': 5, 'time': '2330'}}, {'open': {'day': 6, 'time': '0900'}, 'close': {'day': 6, 'time': '1300'}}, {'open': {'day': 6, 'time': '1430'}, 'close': {'day': 6, 'time': '1830'}}, {'open': {'day': 6, 'time': '2000'}, 'close': {'day': 6, 'time': '2330'}}, {'open': {'day': 7, 'time': '0900'}, 'close': {'day': 7, 'time': '1300'}}, {'open': {'day': 7, 'time': '1430'}, 'close': {'day': 7, 'time': '1830'}}, {'open': {'day': 7, 'time': '2000'}, 'close': {'day': 7, 'time': '2330'}}], 'weekday_text': ['Monday: 09:00 - 13:00,  14:30 - 18:30,  20:00 - 23:30', 'Tuesday: 09:00 - 13:00,  14:30 - 18:30,  20:00 - 23:30', 'Wednesday: 09:00 - 13:00,  14:30 - 18:30,  20:00 - 23:30', 'Thursday: 09:00 - 13:00,  14:30 - 18:30,  20:00 - 23:30', 'Friday: 09:00 - 13:00,  14:30 - 18:30,  20:00 - 23:30', 'Saturday: 09:00 - 13:00,  14:30 - 18:30,  20:00 - 23:30', 'Sunday: 09:00 - 13:00,  14:30 - 18:30,  20:00 - 23:30']}, 'category': {'name': 'attraction', 'localized_name': 'Attraction'}, 'subcategory': [{'name': 'sightseeing_tours', 'localized_name': 'Tours'}, {'name': 'activities', 'localized_name': 'Activities'}], 'groups': [{'name': 'Tours', 'localized_name': 'Tours', 'categories': [{'name': 'Sightseeing Tours', 'localized_name': 'Sightseeing Tours'}, {'name': 'Historical & Heritage Tours', 'localized_name': 'Historical & Heritage Tours'}, {'name': 'Cultural Tours', 'localized_name': 'Cultural Tours'}, {'name': 'Night Tours', 'localized_name': 'Night Tours'}, {'name': 'City Tours', 'localized_name': 'City Tours'}]}], 'neighborhood_info': [{'location_id': '15621628', 'name': '1st Arr. - Louvre'}, {'location_id': '15621669', 'name': \"Saint-Honore / Triangle d'Or\"}, {'location_id': '7236762', 'name': 'Louvre / Palais-Royal'}, {'location_id': '15621616', 'name': 'Place-Vendome'}], 'trip_types': [{'name': 'business', 'localized_name': 'Business', 'value': '128'}, {'name': 'couples', 'localized_name': 'Couples', 'value': '2273'}, {'name': 'solo', 'localized_name': 'Solo travel', 'value': '394'}, {'name': 'family', 'localized_name': 'Family', 'value': '1514'}, {'name': 'friends', 'localized_name': 'Friends getaway', 'value': '1219'}], 'awards': [{'award_type': 'Travelers Choice', 'year': '2023', 'images': {'tiny': 'https://static.tacdn.com/img2/travelers_choice/widgets/tchotel_2023_L.png', 'small': 'https://static.tacdn.com/img2/travelers_choice/widgets/tchotel_2023_L.png', 'large': 'https://static.tacdn.com/img2/travelers_choice/widgets/tchotel_2023_L.png'}, 'categories': [], 'display_name': 'Travelers Choice'}]}, {'location_id': '189229', 'name': 'The Paris Catacombs', 'description': \"A genuine labyrinth in the heart of underground Paris, this ossuary houses the remains of approximately six million Parisians. The history of the Catacombs dates back to the late 18th century when the city's cemeteries were closed due to health reasons and its contents were moved to an underground site. Today, you can walk down the spiral staircase and take a guided tour of the network of tunnels or explore it at your own pace. It's recommended to buy skip-the-line tickets online to avoid snaking lines. You can easily reach the Catacombs by hopping on the Paris Metro. – Tripadvisor\", 'web_url': 'https://www.tripadvisor.com/Attraction_Review-g187147-d189229-Reviews-The_Paris_Catacombs-Paris_Ile_de_France.html?m=66827', 'address_obj': {'street1': '1 Avenue du Colonel Henri Rol-Tanguy', 'city': 'Paris', 'country': 'France', 'postalcode': '75014', 'address_string': '1 Avenue du Colonel Henri Rol-Tanguy, 75014 Paris France'}, 'ancestors': [{'level': 'City', 'name': 'Paris', 'location_id': '187147'}, {'level': 'Region', 'name': 'Ile-de-France', 'location_id': '187144'}, {'level': 'Country', 'name': 'France', 'location_id': '187070'}], 'latitude': '48.83387', 'longitude': '2.332481', 'timezone': 'Europe/Paris', 'phone': '+33 1 43 22 47 63', 'website': 'http://www.catacombes.paris.fr/', 'write_review': 'https://www.tripadvisor.com/UserReview-g187147-d189229-The_Paris_Catacombs-Paris_Ile_de_France.html?m=66827', 'ranking_data': {'geo_location_id': '187147', 'ranking_string': '#165 of 3,552 things to do in Paris', 'geo_location_name': 'Paris', 'ranking_out_of': '3552', 'ranking': '165'}, 'rating': '4.0', 'rating_image_url': 'https://www.tripadvisor.com/img/cdsi/img2/ratings/traveler/4.0-66827-5.svg', 'num_reviews': '8345', 'review_rating_count': {'1': '432', '2': '309', '3': '1028', '4': '2830', '5': '3745'}, 'photo_count': '7956', 'see_all_photos': 'https://www.tripadvisor.com/Attraction_Review-g187147-d189229-m66827-Reviews-The_Paris_Catacombs-Paris_Ile_de_France.html#photos', 'hours': {'periods': [{'open': {'day': 2, 'time': '0945'}, 'close': {'day': 2, 'time': '2030'}}, {'open': {'day': 3, 'time': '0945'}, 'close': {'day': 3, 'time': '2000'}}, {'open': {'day': 4, 'time': '1000'}, 'close': {'day': 4, 'time': '2030'}}, {'open': {'day': 5, 'time': '0945'}, 'close': {'day': 5, 'time': '2030'}}], 'weekday_text': ['Monday: Closed', 'Tuesday: 09:45 - 20:30', 'Wednesday: 09:45 - 20:00', 'Thursday: 10:00 - 20:30', 'Friday: 09:45 - 20:30', 'Saturday: Closed', 'Sunday: Closed']}, 'category': {'name': 'attraction', 'localized_name': 'Attraction'}, 'subcategory': [{'name': 'landmarks', 'localized_name': 'Sights & Landmarks'}, {'name': 'attractions', 'localized_name': 'Attractions'}], 'groups': [{'name': 'Sights & Landmarks', 'localized_name': 'Sights & Landmarks', 'categories': [{'name': 'Cemeteries', 'localized_name': 'Cemeteries'}, {'name': 'Historic Sites', 'localized_name': 'Historic Sites'}]}], 'neighborhood_info': [{'location_id': '15621590', 'name': 'Petit-Montrouge'}, {'location_id': '7239103', 'name': 'Montparnasse'}, {'location_id': '15621631', 'name': '14th Arr. - Observatoire'}], 'trip_types': [{'name': 'business', 'localized_name': 'Business', 'value': '54'}, {'name': 'couples', 'localized_name': 'Couples', 'value': '2924'}, {'name': 'solo', 'localized_name': 'Solo travel', 'value': '637'}, {'name': 'family', 'localized_name': 'Family', 'value': '1746'}, {'name': 'friends', 'localized_name': 'Friends getaway', 'value': '1393'}], 'awards': []}, {'location_id': '1008070', 'name': 'Big Bus Paris', 'description': 'Hop on board an open-top bus with 360-degree views and explore all that Paris has to offer ! From historic sites and iconic architecture to bustling streets and the world famous Eiffel Tower – immerse yourself in the rich history and culture of the French capital. Explore Paris and enjoy the ultimate freedom to take in the city at your own pace. A choice of live guided commentary in English on our red route or recorded commentary in 11 languages are available.', 'web_url': 'https://www.tripadvisor.com/Attraction_Review-g187147-d1008070-Reviews-Big_Bus_Paris-Paris_Ile_de_France.html?m=66827', 'address_obj': {'street1': '11 avenue de l Opera', 'street2': 'Stop 1', 'city': 'Paris', 'country': 'France', 'postalcode': '75001', 'address_string': '11 avenue de l Opera Stop 1, 75001 Paris France'}, 'ancestors': [{'level': 'City', 'name': 'Paris', 'location_id': '187147'}, {'level': 'Region', 'name': 'Ile-de-France', 'location_id': '187144'}, {'level': 'Country', 'name': 'France', 'location_id': '187070'}], 'latitude': '48.86527', 'longitude': '2.33439', 'timezone': 'Europe/Paris', 'email': 'infoparis@bigbustours.com', 'phone': '+33 1 53 95 39 53', 'website': 'http://www.bigbustours.com/en/paris/paris-bus-tours/', 'write_review': 'https://www.tripadvisor.com/UserReview-g187147-d1008070-Big_Bus_Paris-Paris_Ile_de_France.html?m=66827', 'ranking_data': {'geo_location_id': '187147', 'ranking_string': '#333 of 1,906 Tours in Paris', 'geo_location_name': 'Paris', 'ranking_out_of': '1906', 'ranking': '333'}, 'rating': '4.0', 'rating_image_url': 'https://www.tripadvisor.com/img/cdsi/img2/ratings/traveler/4.0-66827-5.svg', 'num_reviews': '7235', 'review_rating_count': {'1': '833', '2': '479', '3': '821', '4': '1762', '5': '3339'}, 'photo_count': '1362', 'see_all_photos': 'https://www.tripadvisor.com/Attraction_Review-g187147-d1008070-m66827-Reviews-Big_Bus_Paris-Paris_Ile_de_France.html#photos', 'hours': {'periods': [{'open': {'day': 1, 'time': '0900'}, 'close': {'day': 1, 'time': '1700'}}, {'open': {'day': 2, 'time': '0900'}, 'close': {'day': 2, 'time': '1700'}}, {'open': {'day': 3, 'time': '0900'}, 'close': {'day': 3, 'time': '1700'}}, {'open': {'day': 4, 'time': '0900'}, 'close': {'day': 4, 'time': '1700'}}, {'open': {'day': 5, 'time': '0900'}, 'close': {'day': 5, 'time': '1700'}}, {'open': {'day': 6, 'time': '0900'}, 'close': {'day': 6, 'time': '1700'}}, {'open': {'day': 7, 'time': '0900'}, 'close': {'day': 7, 'time': '1700'}}], 'weekday_text': ['Monday: 09:00 - 17:00', 'Tuesday: 09:00 - 17:00', 'Wednesday: 09:00 - 17:00', 'Thursday: 09:00 - 17:00', 'Friday: 09:00 - 17:00', 'Saturday: 09:00 - 17:00', 'Sunday: 09:00 - 17:00']}, 'category': {'name': 'attraction', 'localized_name': 'Attraction'}, 'subcategory': [{'name': 'sightseeing_tours', 'localized_name': 'Tours'}, {'name': 'activities', 'localized_name': 'Activities'}], 'groups': [{'name': 'Tours', 'localized_name': 'Tours', 'categories': [{'name': 'Hop-On Hop-Off Tours', 'localized_name': 'Hop-On Hop-Off Tours'}, {'name': 'City Tours', 'localized_name': 'City Tours'}, {'name': 'Bus Tours', 'localized_name': 'Bus Tours'}]}], 'neighborhood_info': [{'location_id': '15621580', 'name': 'Palais-Royal'}, {'location_id': '15621628', 'name': '1st Arr. - Louvre'}, {'location_id': '15621669', 'name': \"Saint-Honore / Triangle d'Or\"}, {'location_id': '7236762', 'name': 'Louvre / Palais-Royal'}], 'trip_types': [{'name': 'business', 'localized_name': 'Business', 'value': '48'}, {'name': 'couples', 'localized_name': 'Couples', 'value': '1989'}, {'name': 'solo', 'localized_name': 'Solo travel', 'value': '280'}, {'name': 'family', 'localized_name': 'Family', 'value': '1733'}, {'name': 'friends', 'localized_name': 'Friends getaway', 'value': '794'}], 'awards': []}, {'location_id': '188679', 'name': 'Cathedrale Notre-Dame de Paris', 'description': 'The iconic Notre Dame Cathedral Paris—meaning ‘Our Lady of Paris’—is a masterpiece of French Gothic architecture. Built back in the 12th century, the important monument has witnessed many historical events. It has also inspired Victor Hugo’s story of the Hunchback of Notre-Dame. Outside the cathedral, you can admire its grand exterior which is framed by an elegant pair of bell towers, stained glass windows and an ornately decorated facade with grand statues. You can also enter the cathedral for a small entrance fee to view Nio-Gothic artwork and furniture as well as join their weekly sessions. – Tripadvisor', 'web_url': 'https://www.tripadvisor.com/Attraction_Review-g187147-d188679-Reviews-Cathedrale_Notre_Dame_de_Paris-Paris_Ile_de_France.html?m=66827', 'address_obj': {'street1': '6 Parvis Notre-Dame', 'street2': 'Place Jean-Paul II', 'city': 'Paris', 'country': 'France', 'postalcode': '75004', 'address_string': '6 Parvis Notre-Dame Place Jean-Paul II, 75004 Paris France'}, 'ancestors': [{'level': 'City', 'name': 'Paris', 'location_id': '187147'}, {'level': 'Region', 'name': 'Ile-de-France', 'location_id': '187144'}, {'level': 'Country', 'name': 'France', 'location_id': '187070'}], 'latitude': '48.853', 'longitude': '2.3498', 'timezone': 'Europe/Paris', 'email': 'info@cathedraledeparis.com', 'phone': '+33 1 42 34 56 10', 'website': 'https://www.notredamedeparis.fr/', 'write_review': 'https://www.tripadvisor.com/UserReview-g187147-d188679-Cathedrale_Notre_Dame_de_Paris-Paris_Ile_de_France.html?m=66827', 'ranking_data': {'geo_location_id': '187147', 'ranking_string': '#4 of 3,552 things to do in Paris', 'geo_location_name': 'Paris', 'ranking_out_of': '3552', 'ranking': '4'}, 'rating': '4.5', 'rating_image_url': 'https://www.tripadvisor.com/img/cdsi/img2/ratings/traveler/4.5-66827-5.svg', 'num_reviews': '71659', 'review_rating_count': {'1': '224', '2': '506', '3': '4029', '4': '17621', '5': '49278'}, 'photo_count': '48094', 'see_all_photos': 'https://www.tripadvisor.com/Attraction_Review-g187147-d188679-m66827-Reviews-Cathedrale_Notre_Dame_de_Paris-Paris_Ile_de_France.html#photos', 'category': {'name': 'attraction', 'localized_name': 'Attraction'}, 'subcategory': [{'name': 'landmarks', 'localized_name': 'Sights & Landmarks'}, {'name': 'attractions', 'localized_name': 'Attractions'}], 'groups': [{'name': 'Sights & Landmarks', 'localized_name': 'Sights & Landmarks', 'categories': [{'name': 'Historic Sites', 'localized_name': 'Historic Sites'}, {'name': 'Architectural Buildings', 'localized_name': 'Architectural Buildings'}, {'name': 'Churches & Cathedrals', 'localized_name': 'Churches & Cathedrals'}]}], 'neighborhood_info': [{'location_id': '7236764', 'name': 'Ile de la Cite / Ile Saint-Louis'}, {'location_id': '15621562', 'name': 'Notre-Dame'}, {'location_id': '15621648', 'name': 'Ile de la Cite'}], 'trip_types': [{'name': 'business', 'localized_name': 'Business', 'value': '1078'}, {'name': 'couples', 'localized_name': 'Couples', 'value': '28823'}, {'name': 'solo', 'localized_name': 'Solo travel', 'value': '5002'}, {'name': 'family', 'localized_name': 'Family', 'value': '15992'}, {'name': 'friends', 'localized_name': 'Friends getaway', 'value': '11101'}], 'awards': [{'award_type': 'Travelers Choice', 'year': '2023', 'images': {'tiny': 'https://static.tacdn.com/img2/travelers_choice/widgets/tchotel_2023_L.png', 'small': 'https://static.tacdn.com/img2/travelers_choice/widgets/tchotel_2023_L.png', 'large': 'https://static.tacdn.com/img2/travelers_choice/widgets/tchotel_2023_L.png'}, 'categories': [], 'display_name': 'Travelers Choice'}]}, {'location_id': '188146', 'name': '7eme Arrondissement', 'description': \"Known as one of the city's most elegant residential areas, this Left Bank neighborhood is also home to numerous tourist attractions, including the Eiffel Tower and the Musée d'Orsay.\", 'web_url': 'https://www.tripadvisor.com/Attraction_Review-g187147-d188146-Reviews-7eme_Arrondissement-Paris_Ile_de_France.html?m=66827', 'address_obj': {'city': 'Paris', 'country': 'France', 'address_string': 'Paris France'}, 'ancestors': [{'level': 'City', 'name': 'Paris', 'location_id': '187147'}, {'level': 'Region', 'name': 'Ile-de-France', 'location_id': '187144'}, {'level': 'Country', 'name': 'France', 'location_id': '187070'}], 'latitude': '48.853886', 'longitude': '2.313162', 'timezone': 'Europe/Paris', 'write_review': 'https://www.tripadvisor.com/UserReview-g187147-d188146-7eme_Arrondissement-Paris_Ile_de_France.html?m=66827', 'ranking_data': {'geo_location_id': '187147', 'ranking_string': '#21 of 3,552 things to do in Paris', 'geo_location_name': 'Paris', 'ranking_out_of': '3552', 'ranking': '21'}, 'rating': '4.5', 'rating_image_url': 'https://www.tripadvisor.com/img/cdsi/img2/ratings/traveler/4.5-66827-5.svg', 'num_reviews': '281', 'review_rating_count': {'1': '0', '2': '0', '3': '11', '4': '82', '5': '188'}, 'photo_count': '520', 'see_all_photos': 'https://www.tripadvisor.com/Attraction_Review-g187147-d188146-m66827-Reviews-7eme_Arrondissement-Paris_Ile_de_France.html#photos', 'category': {'name': 'attraction', 'localized_name': 'Attraction'}, 'subcategory': [{'name': 'landmarks', 'localized_name': 'Sights & Landmarks'}, {'name': 'attractions', 'localized_name': 'Attractions'}, {'name': 'other', 'localized_name': 'Other'}], 'groups': [{'name': 'Sights & Landmarks', 'localized_name': 'Sights & Landmarks', 'categories': [{'name': 'Neighborhoods', 'localized_name': 'Neighborhoods'}]}, {'name': 'Other', 'localized_name': 'Other', 'categories': [{'name': 'Neighborhoods', 'localized_name': 'Neighborhoods'}]}], 'neighborhood_info': [{'location_id': '7236767', 'name': 'Tour Eiffel / Invalides'}, {'location_id': '15621671', 'name': 'Faubourg Saint-Germain'}, {'location_id': '15621644', 'name': '7th Arr. - Palais-Bourbon'}, {'location_id': '15621624', 'name': 'Invalides'}], 'trip_types': [{'name': 'business', 'localized_name': 'Business', 'value': '4'}, {'name': 'couples', 'localized_name': 'Couples', 'value': '110'}, {'name': 'solo', 'localized_name': 'Solo travel', 'value': '35'}, {'name': 'family', 'localized_name': 'Family', 'value': '45'}, {'name': 'friends', 'localized_name': 'Friends getaway', 'value': '38'}], 'awards': []}, {'location_id': '191240', 'name': 'Saint Germain des Pres Quarter', 'web_url': 'https://www.tripadvisor.com/Attraction_Review-g187147-d191240-Reviews-Saint_Germain_des_Pres_Quarter-Paris_Ile_de_France.html?m=66827', 'address_obj': {'street1': 'Place St-Germain-des-Pres', 'street2': '', 'city': 'Paris', 'country': 'France', 'postalcode': '75006', 'address_string': 'Place St-Germain-des-Pres, 75006 Paris France'}, 'ancestors': [{'level': 'City', 'name': 'Paris', 'location_id': '187147'}, {'level': 'Region', 'name': 'Ile-de-France', 'location_id': '187144'}, {'level': 'Country', 'name': 'France', 'location_id': '187070'}], 'latitude': '48.85398', 'longitude': '2.33426', 'timezone': 'Europe/Paris', 'phone': '+33 1 45 61 11 46', 'website': 'http://www.patrickroger.com', 'write_review': 'https://www.tripadvisor.com/UserReview-g187147-d191240-Saint_Germain_des_Pres_Quarter-Paris_Ile_de_France.html?m=66827', 'ranking_data': {'geo_location_id': '187147', 'ranking_string': '#31 of 3,552 things to do in Paris', 'geo_location_name': 'Paris', 'ranking_out_of': '3552', 'ranking': '31'}, 'rating': '4.5', 'rating_image_url': 'https://www.tripadvisor.com/img/cdsi/img2/ratings/traveler/4.5-66827-5.svg', 'num_reviews': '6817', 'review_rating_count': {'1': '22', '2': '49', '3': '307', '4': '2014', '5': '4425'}, 'photo_count': '1556', 'see_all_photos': 'https://www.tripadvisor.com/Attraction_Review-g187147-d191240-m66827-Reviews-Saint_Germain_des_Pres_Quarter-Paris_Ile_de_France.html#photos', 'hours': {'periods': [{'open': {'day': 1, 'time': '0000'}, 'close': {'day': 1, 'time': '2359'}}], 'weekday_text': ['Monday: 00:00 - 23:59', 'Tuesday: Closed', 'Wednesday: Closed', 'Thursday: Closed', 'Friday: Closed', 'Saturday: Closed', 'Sunday: Closed']}, 'category': {'name': 'attraction', 'localized_name': 'Attraction'}, 'subcategory': [{'name': 'landmarks', 'localized_name': 'Sights & Landmarks'}, {'name': 'attractions', 'localized_name': 'Attractions'}, {'name': 'other', 'localized_name': 'Other'}], 'groups': [{'name': 'Sights & Landmarks', 'localized_name': 'Sights & Landmarks', 'categories': [{'name': 'Neighborhoods', 'localized_name': 'Neighborhoods'}, {'name': 'Architectural Buildings', 'localized_name': 'Architectural Buildings'}, {'name': 'Sacred & Religious Sites', 'localized_name': 'Sacred & Religious Sites'}]}, {'name': 'Other', 'localized_name': 'Other', 'categories': [{'name': 'Neighborhoods', 'localized_name': 'Neighborhoods'}]}], 'neighborhood_info': [], 'trip_types': [{'name': 'business', 'localized_name': 'Business', 'value': '177'}, {'name': 'couples', 'localized_name': 'Couples', 'value': '2817'}, {'name': 'solo', 'localized_name': 'Solo travel', 'value': '573'}, {'name': 'family', 'localized_name': 'Family', 'value': '1273'}, {'name': 'friends', 'localized_name': 'Friends getaway', 'value': '1073'}], 'awards': [{'award_type': 'Travelers Choice', 'year': '2023', 'images': {'tiny': 'https://static.tacdn.com/img2/travelers_choice/widgets/tchotel_2023_L.png', 'small': 'https://static.tacdn.com/img2/travelers_choice/widgets/tchotel_2023_L.png', 'large': 'https://static.tacdn.com/img2/travelers_choice/widgets/tchotel_2023_L.png'}, 'categories': [], 'display_name': 'Travelers Choice'}]}, {'location_id': '585912', 'name': 'Tootbus Paris', 'description': \"Enjoy awesome and beautiful places of Paris with Tootbus. Our well-guided tours and iconic routes are waiting for you. Tour Paris with us and explore locations you've never been to before. Toot-toot! Let's go sightseeing.\", 'web_url': 'https://www.tripadvisor.com/Attraction_Review-g187147-d585912-Reviews-Tootbus_Paris-Paris_Ile_de_France.html?m=66827', 'address_obj': {'street1': '12 rue Auber', 'city': 'Paris', 'country': 'France', 'postalcode': '75009', 'address_string': '12 rue Auber, 75009 Paris France'}, 'ancestors': [{'level': 'City', 'name': 'Paris', 'location_id': '187147'}, {'level': 'Region', 'name': 'Ile-de-France', 'location_id': '187144'}, {'level': 'Country', 'name': 'France', 'location_id': '187070'}], 'latitude': '48.872574', 'longitude': '2.328803', 'timezone': 'Europe/Paris', 'email': 'customer.paris@tootbus.com', 'phone': '+33 1 42 66 56 56', 'website': 'http://www.tootbus.com', 'write_review': 'https://www.tripadvisor.com/UserReview-g187147-d585912-Tootbus_Paris-Paris_Ile_de_France.html?m=66827', 'ranking_data': {'geo_location_id': '187147', 'ranking_string': '#93 of 444 Outdoor Activities in Paris', 'geo_location_name': 'Paris', 'ranking_out_of': '444', 'ranking': '93'}, 'rating': '3.5', 'rating_image_url': 'https://www.tripadvisor.com/img/cdsi/img2/ratings/traveler/3.5-66827-5.svg', 'num_reviews': '4054', 'review_rating_count': {'1': '723', '2': '433', '3': '679', '4': '1115', '5': '1104'}, 'photo_count': '907', 'see_all_photos': 'https://www.tripadvisor.com/Attraction_Review-g187147-d585912-m66827-Reviews-Tootbus_Paris-Paris_Ile_de_France.html#photos', 'hours': {'periods': [{'open': {'day': 1, 'time': '0900'}, 'close': {'day': 1, 'time': '1700'}}, {'open': {'day': 2, 'time': '0900'}, 'close': {'day': 2, 'time': '1700'}}, {'open': {'day': 3, 'time': '0900'}, 'close': {'day': 3, 'time': '1700'}}, {'open': {'day': 4, 'time': '0900'}, 'close': {'day': 4, 'time': '1700'}}, {'open': {'day': 5, 'time': '0900'}, 'close': {'day': 5, 'time': '1700'}}, {'open': {'day': 6, 'time': '0900'}, 'close': {'day': 6, 'time': '1700'}}, {'open': {'day': 7, 'time': '0900'}, 'close': {'day': 7, 'time': '1700'}}], 'weekday_text': ['Monday: 09:00 - 17:00', 'Tuesday: 09:00 - 17:00', 'Wednesday: 09:00 - 17:00', 'Thursday: 09:00 - 17:00', 'Friday: 09:00 - 17:00', 'Saturday: 09:00 - 17:00', 'Sunday: 09:00 - 17:00']}, 'category': {'name': 'attraction', 'localized_name': 'Attraction'}, 'subcategory': [{'name': 'sightseeing_tours', 'localized_name': 'Tours'}, {'name': 'activities', 'localized_name': 'Activities'}, {'name': 'outdoor_activities', 'localized_name': 'Outdoor Activities'}], 'groups': [{'name': 'Tours', 'localized_name': 'Tours', 'categories': [{'name': 'Hop-On Hop-Off Tours', 'localized_name': 'Hop-On Hop-Off Tours'}, {'name': 'Eco Tours', 'localized_name': 'Eco Tours'}, {'name': 'City Tours', 'localized_name': 'City Tours'}, {'name': 'Night Tours', 'localized_name': 'Night Tours'}, {'name': 'Sightseeing Tours', 'localized_name': 'Sightseeing Tours'}]}, {'name': 'Outdoor Activities', 'localized_name': 'Outdoor Activities', 'categories': [{'name': 'Eco Tours', 'localized_name': 'Eco Tours'}]}], 'neighborhood_info': [{'location_id': '15621635', 'name': '9th Arr. - Opera'}, {'location_id': '15621588', 'name': \"Chaussee-d'Antin La Fayette\"}, {'location_id': '7236769', 'name': 'Opera / Bourse'}], 'trip_types': [{'name': 'business', 'localized_name': 'Business', 'value': '21'}, {'name': 'couples', 'localized_name': 'Couples', 'value': '1334'}, {'name': 'solo', 'localized_name': 'Solo travel', 'value': '159'}, {'name': 'family', 'localized_name': 'Family', 'value': '973'}, {'name': 'friends', 'localized_name': 'Friends getaway', 'value': '488'}], 'awards': []}, {'location_id': '10720285', 'name': 'Golf Cart in Paris', 'description': 'Temporarily closed until 2025. Golf Cart in Paris © is a fun and unforgettable way to discover Paris and its monuments. Our Golf Carts are 100% eco-friendly and available 7 days a week, from 10:00AM to 8:00PM. Fully privatized, just for you, a Golf Cart can accommodate from 1 to 4 people. You can either follow the proposed routes or create a tailor-made itinerary: it’s up to you! Your driver will be at your entire disposal during your booking. Picking you up at the departure address of your choice, anywhere in Paris :)', 'web_url': 'https://www.tripadvisor.com/Attraction_Review-g187147-d10720285-Reviews-Golf_Cart_in_Paris-Paris_Ile_de_France.html?m=66827', 'address_obj': {'city': 'Paris', 'country': 'France', 'address_string': 'Paris France'}, 'ancestors': [{'level': 'City', 'name': 'Paris', 'location_id': '187147'}, {'level': 'Region', 'name': 'Ile-de-France', 'location_id': '187144'}, {'level': 'Country', 'name': 'France', 'location_id': '187070'}], 'latitude': '48.86067', 'longitude': '2.34094', 'timezone': 'Europe/Paris', 'email': 'info@tuktukinparis.com', 'phone': '+33 1 86 95 33 67', 'website': 'http://www.golfcartinparis.com', 'write_review': 'https://www.tripadvisor.com/UserReview-g187147-d10720285-Golf_Cart_in_Paris-Paris_Ile_de_France.html?m=66827', 'ranking_data': {'geo_location_id': '187147', 'ranking_string': '#3 of 444 Outdoor Activities in Paris', 'geo_location_name': 'Paris', 'ranking_out_of': '444', 'ranking': '3'}, 'rating': '5.0', 'rating_image_url': 'https://www.tripadvisor.com/img/cdsi/img2/ratings/traveler/5.0-66827-5.svg', 'num_reviews': '1129', 'review_rating_count': {'1': '2', '2': '3', '3': '6', '4': '42', '5': '1076'}, 'photo_count': '126', 'see_all_photos': 'https://www.tripadvisor.com/Attraction_Review-g187147-d10720285-m66827-Reviews-Golf_Cart_in_Paris-Paris_Ile_de_France.html#photos', 'hours': {'periods': [{'open': {'day': 1, 'time': '1000'}, 'close': {'day': 1, 'time': '2000'}}, {'open': {'day': 2, 'time': '1000'}, 'close': {'day': 2, 'time': '2000'}}, {'open': {'day': 3, 'time': '1000'}, 'close': {'day': 3, 'time': '2000'}}, {'open': {'day': 4, 'time': '1000'}, 'close': {'day': 4, 'time': '2000'}}, {'open': {'day': 5, 'time': '1000'}, 'close': {'day': 5, 'time': '2000'}}, {'open': {'day': 6, 'time': '1000'}, 'close': {'day': 6, 'time': '2000'}}, {'open': {'day': 7, 'time': '1000'}, 'close': {'day': 7, 'time': '2000'}}], 'weekday_text': ['Monday: 10:00 - 20:00', 'Tuesday: 10:00 - 20:00', 'Wednesday: 10:00 - 20:00', 'Thursday: 10:00 - 20:00', 'Friday: 10:00 - 20:00', 'Saturday: 10:00 - 20:00', 'Sunday: 10:00 - 20:00']}, 'category': {'name': 'attraction', 'localized_name': 'Attraction'}, 'subcategory': [{'name': 'sightseeing_tours', 'localized_name': 'Tours'}, {'name': 'activities', 'localized_name': 'Activities'}, {'name': 'outdoor_activities', 'localized_name': 'Outdoor Activities'}], 'groups': [{'name': 'Tours', 'localized_name': 'Tours', 'categories': [{'name': 'Private Tours', 'localized_name': 'Private Tours'}, {'name': 'City Tours', 'localized_name': 'City Tours'}, {'name': 'Eco Tours', 'localized_name': 'Eco Tours'}]}, {'name': 'Outdoor Activities', 'localized_name': 'Outdoor Activities', 'categories': [{'name': 'Eco Tours', 'localized_name': 'Eco Tours'}]}], 'neighborhood_info': [{'location_id': '15621628', 'name': '1st Arr. - Louvre'}, {'location_id': '13209510', 'name': \"Saint-Germain-l'Auxerrois\"}], 'trip_types': [{'name': 'business', 'localized_name': 'Business', 'value': '9'}, {'name': 'couples', 'localized_name': 'Couples', 'value': '172'}, {'name': 'solo', 'localized_name': 'Solo travel', 'value': '17'}, {'name': 'family', 'localized_name': 'Family', 'value': '412'}, {'name': 'friends', 'localized_name': 'Friends getaway', 'value': '191'}], 'awards': [{'award_type': 'Travelers Choice', 'year': '2023', 'images': {'tiny': 'https://static.tacdn.com/img2/travelers_choice/widgets/tchotel_2023_L.png', 'small': 'https://static.tacdn.com/img2/travelers_choice/widgets/tchotel_2023_L.png', 'large': 'https://static.tacdn.com/img2/travelers_choice/widgets/tchotel_2023_L.png'}, 'categories': [], 'display_name': 'Travelers Choice'}]}]\n"
     ]
    }
   ],
   "source": [
    "print(location_details)"
   ]
  },
  {
   "cell_type": "code",
   "execution_count": 42,
   "metadata": {},
   "outputs": [],
   "source": [
    "cleaned_data = remove_keys(location_details, keys_to_remove)\n",
    "with open(\"locations.txt\", \"a\") as f:\n",
    "    for i in range(len(cleaned_data)):\n",
    "        f.write(format_location(cleaned_data[i]))"
   ]
  },
  {
   "cell_type": "code",
   "execution_count": 6,
   "metadata": {},
   "outputs": [],
   "source": [
    "def search_locs(query):\n",
    "    locations = find_location(query)\n",
    "    location_dict = json.loads(locations)\n",
    "    location_details = []\n",
    "    for i in range(len(location_dict[\"data\"])):\n",
    "        location_details.append(json.loads(get_location_details(location_dict[\"data\"][i][\"location_id\"])))\n",
    "\n",
    "    print(cleaned_data)\n",
    "    with open(\"locations.txt\", \"a\") as f:\n",
    "        for i in range(len(cleaned_data)):\n",
    "            f.write(format_location(cleaned_data[i]))"
   ]
  },
  {
   "cell_type": "code",
   "execution_count": 9,
   "metadata": {},
   "outputs": [
    {
     "ename": "NameError",
     "evalue": "name 'cleaned_data' is not defined",
     "output_type": "error",
     "traceback": [
      "\u001b[1;31m---------------------------------------------------------------------------\u001b[0m",
      "\u001b[1;31mNameError\u001b[0m                                 Traceback (most recent call last)",
      "Cell \u001b[1;32mIn[9], line 5\u001b[0m\n\u001b[0;32m      3\u001b[0m \u001b[38;5;28;01mfor\u001b[39;00m l \u001b[38;5;129;01min\u001b[39;00m location_names:\n\u001b[0;32m      4\u001b[0m     \u001b[38;5;28;01mfor\u001b[39;00m s \u001b[38;5;129;01min\u001b[39;00m suffixes:\n\u001b[1;32m----> 5\u001b[0m         search_locs(\u001b[38;5;124mf\u001b[39m\u001b[38;5;124m\"\u001b[39m\u001b[38;5;132;01m{\u001b[39;00ml\u001b[38;5;132;01m}\u001b[39;00m\u001b[38;5;124m \u001b[39m\u001b[38;5;132;01m{\u001b[39;00ms\u001b[38;5;132;01m}\u001b[39;00m\u001b[38;5;124m\"\u001b[39m)\n",
      "Cell \u001b[1;32mIn[6], line 8\u001b[0m, in \u001b[0;36msearch_locs\u001b[1;34m(query)\u001b[0m\n\u001b[0;32m      5\u001b[0m \u001b[38;5;28;01mfor\u001b[39;00m i \u001b[38;5;129;01min\u001b[39;00m \u001b[38;5;28mrange\u001b[39m(\u001b[38;5;28mlen\u001b[39m(location_dict[\u001b[38;5;124m\"\u001b[39m\u001b[38;5;124mdata\u001b[39m\u001b[38;5;124m\"\u001b[39m])):\n\u001b[0;32m      6\u001b[0m     location_details\u001b[38;5;241m.\u001b[39mappend(json\u001b[38;5;241m.\u001b[39mloads(get_location_details(location_dict[\u001b[38;5;124m\"\u001b[39m\u001b[38;5;124mdata\u001b[39m\u001b[38;5;124m\"\u001b[39m][i][\u001b[38;5;124m\"\u001b[39m\u001b[38;5;124mlocation_id\u001b[39m\u001b[38;5;124m\"\u001b[39m])))\n\u001b[1;32m----> 8\u001b[0m \u001b[38;5;28mprint\u001b[39m(cleaned_data)\n\u001b[0;32m      9\u001b[0m \u001b[38;5;28;01mwith\u001b[39;00m \u001b[38;5;28mopen\u001b[39m(\u001b[38;5;124m\"\u001b[39m\u001b[38;5;124mlocations.txt\u001b[39m\u001b[38;5;124m\"\u001b[39m, \u001b[38;5;124m\"\u001b[39m\u001b[38;5;124ma\u001b[39m\u001b[38;5;124m\"\u001b[39m) \u001b[38;5;28;01mas\u001b[39;00m f:\n\u001b[0;32m     10\u001b[0m     \u001b[38;5;28;01mfor\u001b[39;00m i \u001b[38;5;129;01min\u001b[39;00m \u001b[38;5;28mrange\u001b[39m(\u001b[38;5;28mlen\u001b[39m(cleaned_data)):\n",
      "\u001b[1;31mNameError\u001b[0m: name 'cleaned_data' is not defined"
     ]
    }
   ],
   "source": [
    "location_names = [\"Washington DC\", \"Los Angeles\", \"Chicago\"]\n",
    "suffixes = [\"attractions\", \"sights\", \"museum\", \"activities\"]\n",
    "for l in location_names:\n",
    "    for s in suffixes:\n",
    "        search_locs(f\"{l} {s}\")\n",
    "    "
   ]
  },
  {
   "cell_type": "code",
   "execution_count": null,
   "metadata": {},
   "outputs": [],
   "source": []
  }
 ],
 "metadata": {
  "kernelspec": {
   "display_name": "gpu",
   "language": "python",
   "name": "python3"
  },
  "language_info": {
   "codemirror_mode": {
    "name": "ipython",
    "version": 3
   },
   "file_extension": ".py",
   "mimetype": "text/x-python",
   "name": "python",
   "nbconvert_exporter": "python",
   "pygments_lexer": "ipython3",
   "version": "3.11.5"
  }
 },
 "nbformat": 4,
 "nbformat_minor": 2
}
