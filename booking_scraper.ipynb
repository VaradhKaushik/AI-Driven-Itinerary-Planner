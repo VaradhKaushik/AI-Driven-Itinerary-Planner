{
 "cells": [
  {
   "cell_type": "code",
   "execution_count": 3,
   "metadata": {},
   "outputs": [],
   "source": [
    "from bs4 import BeautifulSoup\n",
    "import requests"
   ]
  },
  {
   "cell_type": "code",
   "execution_count": 4,
   "metadata": {},
   "outputs": [
    {
     "name": "stdout",
     "output_type": "stream",
     "text": [
      "200\n"
     ]
    }
   ],
   "source": [
    "\n",
    "headers={\"User-Agent\":\"Mozilla/5.0 (Windows NT 10.0; Win64; x64) AppleWebKit/537.36 (KHTML, like Gecko) Chrome/107.0.0.0 Safari/537.36\"}\n",
    "target_url = \"https://www.booking.com/hotel/us/the-lenox.html?checkin=2022-12-28&checkout=2022-12-29&group_adults=2&group_children=0&no_rooms=1&selected_currency=USD\"\n",
    "resp = requests.get(target_url, headers=headers)\n",
    "print(resp.status_code)"
   ]
  },
  {
   "cell_type": "code",
   "execution_count": 5,
   "metadata": {},
   "outputs": [],
   "source": [
    "def scrape(url):\n",
    "    l=list()\n",
    "    g=list()\n",
    "    o={}\n",
    "    k={}\n",
    "    fac=[]\n",
    "    fac_arr=[]\n",
    "\n",
    "    resp = requests.get(url, headers=headers)\n",
    "    soup = BeautifulSoup(resp.text, 'html.parser')\n",
    "    o[\"name\"]=soup.find(\"h2\",{\"class\":\"pp-header__title\"}).text\n",
    "    o[\"address\"]=soup.find(\"span\",{\"class\":\"hp_address_subtitle\"}).text.strip(\"\\n\")\n",
    "    outer_div=soup.find(\"div\",{\"class\":\"a3b8729ab1 d86cee9b25\"})\n",
    "    contents = outer_div.contents\n",
    "    o[\"rating\"] = contents[0].strip()\n",
    "    o[\"stars\"] = len(soup.find(\"span\",{\"class\":\"a455730030 d542f184f1\"}).contents)\n",
    "    \n",
    "\n",
    "    fac=soup.find_all(\"span\",{\"class\":\"a5a5a75131\"})\n",
    "    for i in range(0,len(fac)):\n",
    "        fac_arr.append(fac[i].text.strip(\"\\n\"))\n",
    "    ids= list()\n",
    "    targetId=list()\n",
    "    try:\n",
    "        tr = soup.find_all(\"tr\")\n",
    "    except:\n",
    "        tr = None\n",
    "    for y in range(0,len(tr)):\n",
    "        try:\n",
    "            id = tr[y].get('data-block-id')\n",
    "        except:\n",
    "            id = None\n",
    "        if( id is not None):\n",
    "            ids.append(id)\n",
    "    print(\"ids are \",len(ids))\n",
    "    for i in range(0,len(ids)):\n",
    "        try:\n",
    "            allData = soup.find(\"tr\",{\"data-block-id\":ids[i]})\n",
    "            try:\n",
    "                rooms = allData.find(\"span\",{\"class\":\"hprt-roomtype-icon-link\"})\n",
    "            except:\n",
    "                rooms=None\n",
    "            if(rooms is not None):\n",
    "                last_room = rooms.text.replace(\"\\n\",\"\")\n",
    "            try:\n",
    "                k[\"room\"]=rooms.text.replace(\"\\n\",\"\")\n",
    "            except:\n",
    "                k[\"room\"]=last_room\n",
    "            price = allData.find(\"div\",{\"class\":\"bui-price-display__value prco-text-nowrap-helper prco-inline-block-maker-helper prco-f-font-heading\"})\n",
    "            k[\"price\"]=price.text.replace(\"\\n\",\"\")\n",
    "            g.append(k)\n",
    "            k={}\n",
    "        except:\n",
    "            k[\"room\"]=None\n",
    "            k[\"price\"]=None\n",
    "\n",
    "    location_blocks = soup.find_all('div', class_='dc5041d860 c72df67c95 fb60b9836d')\n",
    "\n",
    "    # Find all distance blocks\n",
    "    distance_blocks = soup.find_all('div', class_='a53cbfa6de f45d8e4c32 c875b9e968')\n",
    "\n",
    "    # Assuming each location block corresponds to a distance block in order\n",
    "    locations_and_distances = []\n",
    "    for location, distance in zip(location_blocks, distance_blocks):\n",
    "        location_name = location.get_text().strip()\n",
    "        distance_text = distance.get_text().strip()\n",
    "        locations_and_distances.append((location_name, distance_text))\n",
    "       \n",
    "\n",
    "    l.append(g)\n",
    "    l.append(o)\n",
    "    l.append(fac_arr)\n",
    "    l.append(locations_and_distances)\n",
    "    return l"
   ]
  },
  {
   "cell_type": "code",
   "execution_count": 11,
   "metadata": {},
   "outputs": [
    {
     "name": "stdout",
     "output_type": "stream",
     "text": [
      "ids are  0\n",
      "[[], {'name': 'karaksa hotel grande Shin-Osaka Tower', 'address': '532-0003 Osaka Prefecture, Osaka, Yodogawa-ku Miyahara 3-3-24, Japan', 'rating': '8.7', 'stars': 4}, ['Non-smoking rooms', 'Free WiFi', '24-hour front desk', 'Restaurant', 'Facilities for disabled guests', 'Lift', 'Luggage storage', 'Heating', 'Daily housekeeping', 'Very good breakfast', 'Non-smoking rooms', 'Free WiFi', '24-hour front desk', 'Restaurant', 'Facilities for disabled guests', 'Lift', 'Luggage storage', 'Heating', 'Daily housekeeping', 'Very good breakfast', 'Toilet paper', 'Towels', 'Bidet', 'Slippers', 'Private bathroom', 'Toilet', 'Free toiletries', 'Hairdryer', 'Shower', 'Linen', 'Alarm clock', 'Extra long beds (> 2 metres)', 'Electric kettle', 'Refrigerator', 'Socket near the bed', 'Clothes rack', 'Flat-screen TV', 'Telephone', 'TV', 'Kid-friendly buffet', 'Restaurant', 'Daily housekeeping', 'Vending machine (drinks)', 'Trouser press', 'Luggage storage', 'Currency exchange', 'Wake up service/Alarm clock', '24-hour front desk', 'Fire extinguishers', 'CCTV outside property', 'CCTV in common areas', 'Smoke alarms', 'Security alarm', 'Key card access', '24-hour security', 'Designated smoking area', 'Air conditioning', 'Heating', 'Soundproofing', 'Soundproof rooms', 'Lift', 'Facilities for disabled guests', 'Non-smoking rooms', 'Emergency cord in bathroom', 'Lower bathroom sink', 'Toilet with grab rails', 'Wheelchair accessible', 'Upper floors accessible by elevator', 'Public Bath', 'Sauna', 'English', 'Japanese', 'Korean', 'Chinese'], []]\n"
     ]
    }
   ],
   "source": [
    "target_url2 = \"https://www.booking.com/hotel/jp/villa-fontaine-grand-tokyo-ariake.html?aid=304142&label=gen173nr-1FCAEoggI46AdIM1gEaJgCiAEBmAEhuAEHyAEM2AEB6AEB-AELiAIBqAIDuALp34ewBsACAdICJGIyMTY0NTZkLTA4ZmYtNGI2Yy1iNjlmLWNjYWVmNDQ3YTBkY9gCBuACAQ&sid=93001eae5bdb2370c073f0a3e1ca7ead&all_sr_blocks=583523559_309180516_2_42_0&checkin=2024-04-12&checkout=2024-04-20&dest_id=-246227&dest_type=city&group_adults=2&group_children=0&hapos=1&highlighted_blocks=583523559_309180516_2_42_0&hpos=1&matching_block_id=583523559_309180516_2_42_0&no_rooms=1&req_adults=2&req_children=0&room1=A%2CA&sb_price_type=total&sr_order=popularity&sr_pri_blocks=583523559_309180516_2_42_0__32524000&srepoch=1711403033&srpvid=b7cb98c74ffa0050&type=total&ucfs=1&#hotelTmpl\"\n",
    "target_url3 = \"https://www.booking.com/hotel/jp/karaksa-hotel-grande-shin-osaka-tower.html?aid=304142&label=gen173nr-1FCAQoggJCDHNlYXJjaF9vc2FrYUgxWARomAKIAQGYATG4AQfIAQzYAQHoAQH4AQOIAgGoAgO4Ap6Pl7AGwAIB0gIkNTJjMWY2OWEtZTQ4ZS00YjM5LTg4ZmQtNzQ1MDllNGQ5ODM52AIF4AIB&sid=93001eae5bdb2370c073f0a3e1ca7ead&all_sr_blocks=466033402_387098578_2_0_0;checkin=2024-04-01;checkout=2024-04-09;dist=0;group_adults=2;group_children=0;hapos=1;highlighted_blocks=466033402_387098578_2_0_0;hpos=1;matching_block_id=466033402_387098578_2_0_0;nflt=price%3DUSD-min-max-1;no_rooms=1;req_adults=2;req_children=0;room1=A%2CA;sb_price_type=total;sr_order=popularity;sr_pri_blocks=466033402_387098578_2_0_0__15876000;srepoch=1711657772;srpvid=e9e08b089d2e00ea;type=total;ucfs=1&#hotelTmpl\"\n",
    "\n",
    "l =scrape(target_url3)\n",
    "print(l)"
   ]
  },
  {
   "cell_type": "code",
   "execution_count": 1,
   "metadata": {},
   "outputs": [],
   "source": [
    "def scrape_hotels(city, checkin_date, checkout_date, adults = 2, children = 0, min_price = \"min\", max_price = \"max\"):\n",
    "    url = f\"https://www.booking.com/searchresults.html?ss={city}&lang=en-us&sb=1&src_elem=sb&src=index&checkin={checkin_date}&checkout={checkout_date}&group_adults={adults}&no_rooms=1&group_children={children}&nflt=price%3DUSD-{min_price}-{max_price}-1\"\n",
    "    headers = {\n",
    "        \"User-Agent\": \"Mozilla/5.0 (Windows NT 10.0; Win64; x64) AppleWebKit/537.36 (KHTML, like Gecko) Chrome/107.0.0.0 Safari/537.36\"\n",
    "    }\n",
    "    print(url)\n",
    "    resp = requests.get(url, headers=headers)\n",
    "    soup = BeautifulSoup(resp.text, 'html.parser')\n",
    "    hotels = soup.find_all('a', class_='a78ca197d0')\n",
    "    hotel_links = [link['href'] for link in hotels]\n",
    "    return hotel_links"
   ]
  },
  {
   "cell_type": "code",
   "execution_count": 6,
   "metadata": {},
   "outputs": [
    {
     "name": "stdout",
     "output_type": "stream",
     "text": [
      "https://www.booking.com/searchresults.html?ss=London&lang=en-us&sb=1&src_elem=sb&src=index&checkin=2024-05-01&checkout=2024-05-10&group_adults=2&no_rooms=1&group_children=0&nflt=price%3DUSD-min-max-1\n"
     ]
    }
   ],
   "source": [
    "hotels = scrape_hotels(\"London\", \"2024-05-01\", \"2024-05-10\", 2, 0)\n"
   ]
  },
  {
   "cell_type": "code",
   "execution_count": 5,
   "metadata": {},
   "outputs": [
    {
     "name": "stdout",
     "output_type": "stream",
     "text": [
      "https://www.booking.com/hotel/gb/park-lane-apartments-marylebone.html?aid=304142&label=gen173nr-1FCAQoggJCDXNlYXJjaF9sb25kb25IMVgEaJgCiAEBmAExuAEXyAEM2AEB6AEB-AEDiAIBqAIDuALLu9ywBsACAdICJDIwZWIzNmJkLTk3MjYtNDI5NC05YmRhLTQwMjU2OTFlMmU3ZtgCBeACAQ&ucfs=1&arphpl=1&checkin=2024-05-01&checkout=2024-05-10&group_adults=2&req_adults=2&no_rooms=1&group_children=0&req_children=0&hpos=1&hapos=1&sr_order=popularity&nflt=price%3DUSD-min-max-1&srpvid=6e56a3a5de5b0107&srepoch=1712790989&all_sr_blocks=1073657102_387625363_4_0_0&highlighted_blocks=1073657102_387625363_4_0_0&matching_block_id=1073657102_387625363_4_0_0&sr_pri_blocks=1073657102_387625363_4_0_0__390000&from_sustainable_property_sr=1&from=searchresults#hotelTmpl\n"
     ]
    }
   ],
   "source": [
    "print(hotels[0])"
   ]
  },
  {
   "cell_type": "code",
   "execution_count": 8,
   "metadata": {},
   "outputs": [
    {
     "name": "stdout",
     "output_type": "stream",
     "text": [
      "ids are  106\n",
      "[[{'room': 'Superior Queen Room', 'price': 'US$8,180'}, {'room': 'Superior Queen Room', 'price': 'US$9,088'}, {'room': 'Superior Queen Room', 'price': 'US$9,206'}, {'room': 'Superior Queen Room', 'price': 'US$10,115'}, {'room': 'Superior Queen Room', 'price': 'US$8,693'}, {'room': 'Superior Queen Room', 'price': 'US$9,602'}, {'room': 'Deluxe King Room', 'price': 'US$8,796'}, {'room': 'Deluxe King Room', 'price': 'US$9,773'}, {'room': 'Deluxe King Room', 'price': 'US$9,822'}, {'room': 'Deluxe King Room', 'price': 'US$10,800'}, {'room': 'Deluxe King Room', 'price': 'US$9,720'}, {'room': 'Deluxe King Room', 'price': 'US$10,800'}, {'room': 'Deluxe King Room', 'price': 'US$11,260'}, {'room': 'Deluxe King Room', 'price': 'US$12,340'}, {'room': 'Deluxe King Room', 'price': 'US$9,309'}, {'room': 'Deluxe King Room', 'price': 'US$10,286'}, {'room': 'Luxury King Room', 'price': 'US$10,929'}, {'room': 'Luxury King Room', 'price': 'US$12,029'}, {'room': 'Luxury King Room', 'price': 'US$9,902'}, {'room': 'Luxury King Room', 'price': 'US$11,002'}, {'room': 'Luxury King Room', 'price': 'US$11,442'}, {'room': 'Luxury King Room', 'price': 'US$12,542'}, {'room': 'Luxury King Room', 'price': 'US$10,415'}, {'room': 'Luxury King Room', 'price': 'US$11,516'}, {'room': 'Junior Suite', 'price': 'US$14,517'}, {'room': 'Junior Suite', 'price': 'US$15,543'}, {'room': 'Junior Suite', 'price': 'US$16,130'}, {'room': 'Junior Suite', 'price': 'US$17,156'}, {'room': 'Junior Suite', 'price': 'US$15,441'}, {'room': 'Junior Suite', 'price': 'US$16,981'}, {'room': 'Junior Suite', 'price': 'US$17,156'}, {'room': 'Junior Suite', 'price': 'US$18,696'}, {'room': 'Junior Suite', 'price': 'US$15,030'}, {'room': 'Junior Suite', 'price': 'US$16,643'}, {'room': 'Junior King Suite with River View', 'price': 'US$17,083'}, {'room': 'Junior King Suite with River View', 'price': 'US$18,110'}, {'room': 'Junior King Suite with River View', 'price': 'US$20,008'}, {'room': 'Junior King Suite with River View', 'price': 'US$18,007'}, {'room': 'Junior King Suite with River View', 'price': 'US$19,548'}, {'room': 'Junior King Suite with River View', 'price': 'US$21,548'}, {'room': 'Junior King Suite with River View', 'price': 'US$17,597'}, {'room': 'Junior King Suite with River View', 'price': 'US$19,495'}, {'room': 'Deluxe Junior Suite with City View', 'price': 'US$20,648'}, {'room': 'Deluxe Junior Suite with City View', 'price': 'US$21,675'}, {'room': 'Deluxe Junior Suite with City View', 'price': 'US$22,943'}, {'room': 'Deluxe Junior Suite with City View', 'price': 'US$23,969'}, {'room': 'Deluxe Junior Suite with City View', 'price': 'US$21,572'}, {'room': 'Deluxe Junior Suite with City View', 'price': 'US$23,113'}, {'room': 'Deluxe Junior Suite with City View', 'price': 'US$23,969'}, {'room': 'Deluxe Junior Suite with City View', 'price': 'US$25,509'}, {'room': 'Deluxe Junior Suite with City View', 'price': 'US$21,162'}, {'room': 'Deluxe Junior Suite with City View', 'price': 'US$23,456'}, {'room': 'Two-Bedroom Family', 'price': 'US$21,715'}, {'room': 'Two-Bedroom Family', 'price': 'US$22,742'}, {'room': 'Two-Bedroom Family', 'price': 'US$24,128'}, {'room': 'Two-Bedroom Family', 'price': 'US$25,155'}, {'room': 'Two-Bedroom Family', 'price': 'US$22,639'}, {'room': 'Two-Bedroom Family', 'price': 'US$24,179'}, {'room': 'Two-Bedroom Family', 'price': 'US$25,155'}, {'room': 'Two-Bedroom Family', 'price': 'US$26,695'}, {'room': 'Two-Bedroom Family', 'price': 'US$23,563'}, {'room': 'Two-Bedroom Family', 'price': 'US$25,617'}, {'room': 'Two-Bedroom Family', 'price': 'US$26,181'}, {'room': 'Two-Bedroom Family', 'price': 'US$28,235'}, {'room': 'Two-Bedroom Family', 'price': 'US$22,228'}, {'room': 'Two-Bedroom Family', 'price': 'US$24,641'}, {'room': 'Deluxe Junior Suite with Partial River View', 'price': 'US$23,215'}, {'room': 'Deluxe Junior Suite with Partial River View', 'price': 'US$24,242'}, {'room': 'Deluxe Junior Suite with Partial River View', 'price': 'US$25,795'}, {'room': 'Deluxe Junior Suite with Partial River View', 'price': 'US$26,821'}, {'room': 'Deluxe Junior Suite with Partial River View', 'price': 'US$24,139'}, {'room': 'Deluxe Junior Suite with Partial River View', 'price': 'US$25,679'}, {'room': 'Deluxe Junior Suite with Partial River View', 'price': 'US$26,821'}, {'room': 'Deluxe Junior Suite with Partial River View', 'price': 'US$28,361'}, {'room': 'Deluxe Junior Suite with Partial River View', 'price': 'US$23,729'}, {'room': 'Deluxe Junior Suite with Partial River View', 'price': 'US$26,308'}, {'room': 'One-Bedroom River View Suite', 'price': 'US$29,073'}, {'room': 'One-Bedroom River View Suite', 'price': 'US$30,100'}, {'room': 'One-Bedroom River View Suite', 'price': 'US$32,304'}, {'room': 'One-Bedroom River View Suite', 'price': 'US$33,330'}, {'room': 'One-Bedroom River View Suite', 'price': 'US$29,997'}, {'room': 'One-Bedroom River View Suite', 'price': 'US$31,537'}, {'room': 'One-Bedroom River View Suite', 'price': 'US$33,330'}, {'room': 'One-Bedroom River View Suite', 'price': 'US$34,870'}, {'room': 'One-Bedroom River View Suite', 'price': 'US$29,587'}, {'room': 'One-Bedroom River View Suite', 'price': 'US$32,817'}, {'room': 'Personality Partial River View Suite', 'price': 'US$31,127'}, {'room': 'Personality Partial River View Suite', 'price': 'US$32,153'}, {'room': 'Personality Partial River View Suite', 'price': 'US$34,585'}, {'room': 'Personality Partial River View Suite', 'price': 'US$35,612'}, {'room': 'Personality Partial River View Suite', 'price': 'US$32,051'}, {'room': 'Personality Partial River View Suite', 'price': 'US$33,591'}, {'room': 'Personality Partial River View Suite', 'price': 'US$35,612'}, {'room': 'Personality Partial River View Suite', 'price': 'US$37,152'}, {'room': 'Personality Partial River View Suite', 'price': 'US$31,640'}, {'room': 'Personality Partial River View Suite', 'price': 'US$35,098'}, {'room': 'Personality King Suite with Panoramic River View', 'price': 'US$34,207'}, {'room': 'Personality King Suite with Panoramic River View', 'price': 'US$35,233'}, {'room': 'Personality King Suite with Panoramic River View', 'price': 'US$38,007'}, {'room': 'Personality King Suite with Panoramic River View', 'price': 'US$39,034'}, {'room': 'Personality King Suite with Panoramic River View', 'price': 'US$35,131'}, {'room': 'Personality King Suite with Panoramic River View', 'price': 'US$36,671'}, {'room': 'Personality King Suite with Panoramic River View', 'price': 'US$39,034'}, {'room': 'Personality King Suite with Panoramic River View', 'price': 'US$40,574'}, {'room': 'Personality King Suite with Panoramic River View', 'price': 'US$34,720'}, {'room': 'Personality King Suite with Panoramic River View', 'price': 'US$38,521'}], {'name': 'The Savoy', 'address': 'Strand, Westminster Borough, London, WC2R 0EU, United Kingdom', 'rating': '9.4', 'stars': 5}, ['Indoor swimming pool', 'Non-smoking rooms', 'Fitness centre', 'Spa and wellness centre', 'Facilities for disabled guests', 'Private parking', 'Room service', '2 restaurants', 'Bar', 'Superb breakfast', 'Indoor swimming pool', 'Non-smoking rooms', 'Fitness centre', 'Spa and wellness centre', 'Facilities for disabled guests', 'Private parking', 'Room service', '2 restaurants', 'Bar', 'Superb breakfast', 'Toilet paper', 'Towels', 'Bath or shower', 'Slippers', 'Toilet', 'Free toiletries', 'Hairdryer', 'Bath', 'Shower', 'Linen', 'Alarm clock', 'Coffee machine', 'Electric kettle', 'Bicycle rental', 'Live music/performance', 'Cooking class', 'Tour or class about local culture', 'Evening entertainment', 'Flat-screen TV', 'Satellite channels', 'Telephone', 'TV', 'Fruits', 'Wine/champagne', 'Kid meals', 'Special diet menus (on request)', 'Breakfast in the room', 'Bar', 'Restaurant', 'Valet parking', 'Parking garage', 'Electric vehicle charging station', 'Accessible parking', 'Private check-in/check-out', 'Concierge service', 'Luggage storage', 'Currency exchange', 'Express check-in/check-out', '24-hour front desk', 'Strollers', 'Board games/puzzles', 'Babysitting/child services', 'Daily housekeeping', 'Trouser press', 'Ironing service', 'Dry cleaning', 'Laundry', 'Fax/photocopying', 'Business centre', 'Meeting/banquet facilities', 'Fire extinguishers', 'CCTV outside property', 'CCTV in common areas', 'Smoke alarms', 'Security alarm', 'Key card access', '24-hour security', 'Safety deposit box', 'Shuttle service', 'Pet bowls', 'Pet basket', 'Air conditioning', 'Wake-up service', 'Heating', 'Car hire', 'Lift', 'Family rooms', 'Facilities for disabled guests', 'Airport shuttle', 'Non-smoking rooms', 'Room service', 'Emergency cord in bathroom', 'Lower bathroom sink', 'Higher level toilet', 'Toilet with grab rails', 'Wheelchair accessible', 'Upper floors accessible by elevator', 'Open all year', 'Pool/beach towels', 'Sun loungers or beach chairs', 'Fitness/spa locker rooms', 'Fitness', 'Couples massage', 'Neck massage', 'Back massage', 'Spa lounge/relaxation area', 'Steam room', 'Spa facilities', 'Body treatments', 'Pedicure', 'Manicure', 'Facial treatments', 'Beauty Services', 'Sun loungers or beach chairs', 'Hammam', 'Massage', 'Spa and wellness centre', 'Fitness centre', 'Sauna', 'Arabic', 'Bulgarian', 'Czech', 'Danish', 'German', 'Greek', 'English', 'Spanish', 'Estonian', 'French', 'Hindi', 'Hungarian', 'Italian', 'Korean', 'Lithuanian', 'Latvian', 'Dutch', 'Polish', 'Portuguese', 'Romanian', 'Russian', 'Slovak', 'Swedish', 'Filipino', 'Turkish', 'Chinese'], []]\n"
     ]
    }
   ],
   "source": [
    "print(scrape(hotels[1]))"
   ]
  },
  {
   "cell_type": "code",
   "execution_count": null,
   "metadata": {},
   "outputs": [],
   "source": []
  }
 ],
 "metadata": {
  "kernelspec": {
   "display_name": "base",
   "language": "python",
   "name": "python3"
  },
  "language_info": {
   "codemirror_mode": {
    "name": "ipython",
    "version": 3
   },
   "file_extension": ".py",
   "mimetype": "text/x-python",
   "name": "python",
   "nbconvert_exporter": "python",
   "pygments_lexer": "ipython3",
   "version": "3.9.13"
  },
  "orig_nbformat": 4,
  "vscode": {
   "interpreter": {
    "hash": "1fb2cfaa0d73e73f44b6b1563ac19fe822a7ee09c64df8d4dd703b9d43dc9a98"
   }
  }
 },
 "nbformat": 4,
 "nbformat_minor": 2
}
