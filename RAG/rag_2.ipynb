{
 "cells": [
  {
   "cell_type": "code",
   "execution_count": null,
   "metadata": {},
   "outputs": [],
   "source": [
    "# !pip install ctransformers[cuda]==0.2.27 \\\n",
    "#     gradio"
   ]
  },
  {
   "cell_type": "code",
   "execution_count": null,
   "metadata": {},
   "outputs": [],
   "source": [
    "import gradio as gr\n",
    "import time\n",
    "from ctransformers import AutoModelForCausalLM\n"
   ]
  },
  {
   "cell_type": "code",
   "execution_count": null,
   "metadata": {},
   "outputs": [],
   "source": [
    "def load_llm():\n",
    "    llm = AutoModelForCausalLM.from_pretrained(\n",
    "        # \"../models/llama-2-13b-chat.Q8_0.gguf\",\n",
    "        \"../models/llama-2-7b-chat.Q8_0.gguf\",\n",
    "        model_type='llama',\n",
    "        max_new_tokens = 2048,\n",
    "        repetition_penalty = 1.0,\n",
    "        # temperature = 0.75,\n",
    "        gpu_layers=150,\n",
    "        context_length=4096\n",
    "    )\n",
    "    return llm"
   ]
  },
  {
   "cell_type": "code",
   "execution_count": null,
   "metadata": {},
   "outputs": [],
   "source": [
    "def llm_function(message, chat_history):\n",
    "    llm = load_llm()\n",
    "    response = llm(\n",
    "        message\n",
    "    )\n",
    "    output_texts = response\n",
    "    return output_texts"
   ]
  },
  {
   "cell_type": "code",
   "execution_count": null,
   "metadata": {},
   "outputs": [],
   "source": [
    "title = \"Llama2 7B Quantized GGUF\"\n",
    "\n",
    "examples = [\n",
    "    'Plan a 4 day trip to Japan, include the travel times.',\n",
    "    'Plan a 5 day trip to Mumbai'\n",
    "]"
   ]
  },
  {
   "cell_type": "code",
   "execution_count": null,
   "metadata": {},
   "outputs": [],
   "source": [
    "gr.ChatInterface(\n",
    "    fn = llm_function,\n",
    "    title=title,\n",
    "    examples=examples\n",
    ").launch()"
   ]
  }
 ],
 "metadata": {
  "kernelspec": {
   "display_name": ".venv",
   "language": "python",
   "name": "python3"
  },
  "language_info": {
   "codemirror_mode": {
    "name": "ipython",
    "version": 3
   },
   "file_extension": ".py",
   "mimetype": "text/x-python",
   "name": "python",
   "nbconvert_exporter": "python",
   "pygments_lexer": "ipython3",
   "version": "3.10.12"
  }
 },
 "nbformat": 4,
 "nbformat_minor": 2
}
