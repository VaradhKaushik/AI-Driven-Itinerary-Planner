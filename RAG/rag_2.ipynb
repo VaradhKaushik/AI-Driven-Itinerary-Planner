{
 "cells": [
  {
   "cell_type": "code",
   "execution_count": 1,
   "metadata": {},
   "outputs": [],
   "source": [
    "# !pip install ctransformers[cuda]==0.2.27 \\\n",
    "#     gradio \\\n",
    "#     chromadb \\\n",
    "#     langchain \\\n",
    "#     torch \\\n",
    "#     sentence-transformers"
   ]
  },
  {
   "cell_type": "code",
   "execution_count": 2,
   "metadata": {},
   "outputs": [
    {
     "name": "stdout",
     "output_type": "stream",
     "text": [
      "Requirement already satisfied: llama-cpp-python in /home/varadh/CS_5170/New_ZaWarudoWanderers/.venv/lib/python3.10/site-packages (0.2.60)\n",
      "Requirement already satisfied: typing-extensions>=4.5.0 in /home/varadh/CS_5170/New_ZaWarudoWanderers/.venv/lib/python3.10/site-packages (from llama-cpp-python) (4.11.0)\n",
      "Requirement already satisfied: numpy>=1.20.0 in /home/varadh/CS_5170/New_ZaWarudoWanderers/.venv/lib/python3.10/site-packages (from llama-cpp-python) (1.26.4)\n",
      "Requirement already satisfied: diskcache>=5.6.1 in /home/varadh/CS_5170/New_ZaWarudoWanderers/.venv/lib/python3.10/site-packages (from llama-cpp-python) (5.6.3)\n",
      "Requirement already satisfied: jinja2>=2.11.3 in /home/varadh/CS_5170/New_ZaWarudoWanderers/.venv/lib/python3.10/site-packages (from llama-cpp-python) (3.1.3)\n",
      "Requirement already satisfied: MarkupSafe>=2.0 in /home/varadh/CS_5170/New_ZaWarudoWanderers/.venv/lib/python3.10/site-packages (from jinja2>=2.11.3->llama-cpp-python) (2.1.5)\n"
     ]
    }
   ],
   "source": [
    "!pip install llama-cpp-python"
   ]
  },
  {
   "cell_type": "code",
   "execution_count": 3,
   "metadata": {},
   "outputs": [
    {
     "name": "stderr",
     "output_type": "stream",
     "text": [
      "/home/varadh/CS_5170/New_ZaWarudoWanderers/.venv/lib/python3.10/site-packages/tqdm/auto.py:21: TqdmWarning: IProgress not found. Please update jupyter and ipywidgets. See https://ipywidgets.readthedocs.io/en/stable/user_install.html\n",
      "  from .autonotebook import tqdm as notebook_tqdm\n"
     ]
    }
   ],
   "source": [
    "import gradio as gr\n",
    "import time\n",
    "from ctransformers import AutoModelForCausalLM\n"
   ]
  },
  {
   "cell_type": "code",
   "execution_count": 4,
   "metadata": {},
   "outputs": [],
   "source": [
    "def load_llm():\n",
    "    llm = AutoModelForCausalLM.from_pretrained(\n",
    "        # \"../models/llama-2-13b-chat.Q8_0.gguf\",\n",
    "        \"../models/llama-2-7b-chat.Q8_0.gguf\",\n",
    "        model_type='llama',\n",
    "        max_new_tokens = 2048,\n",
    "        repetition_penalty = 1.0,\n",
    "        # temperature = 0.75,\n",
    "        gpu_layers=150,\n",
    "        context_length=4096\n",
    "    )\n",
    "    return llm"
   ]
  },
  {
   "cell_type": "code",
   "execution_count": 5,
   "metadata": {},
   "outputs": [],
   "source": [
    "def llm_function(message, chat_history):\n",
    "    llm = load_llm()\n",
    "    response = llm(\n",
    "        message\n",
    "    )\n",
    "    output_texts = response\n",
    "    return output_texts"
   ]
  },
  {
   "cell_type": "code",
   "execution_count": 6,
   "metadata": {},
   "outputs": [],
   "source": [
    "title = \"Llama2 7B Quantized GGUF\"\n",
    "\n",
    "examples = [\n",
    "    'Plan a 4 day trip to Japan, include the travel times.',\n",
    "    'Plan a 5 day trip to Mumbai'\n",
    "]"
   ]
  },
  {
   "cell_type": "code",
   "execution_count": 7,
   "metadata": {},
   "outputs": [],
   "source": [
    "from torch import cuda\n",
    "from langchain.embeddings.huggingface import HuggingFaceEmbeddings\n",
    "\n",
    "embed_model_id = 'sentence-transformers/all-MiniLM-L6-v2'\n",
    "\n",
    "device = f'cuda:{cuda.current_device()}' if cuda.is_available() else 'cpu'\n",
    "\n",
    "embed_model = HuggingFaceEmbeddings(\n",
    "    model_name=embed_model_id,\n",
    "    model_kwargs={'device': device},\n",
    "    encode_kwargs={'device': device, 'batch_size': 32}\n",
    ")"
   ]
  },
  {
   "cell_type": "code",
   "execution_count": 8,
   "metadata": {},
   "outputs": [],
   "source": [
    "from langchain.document_loaders import TextLoader\n",
    "\n",
    "loader = TextLoader(\"../data/destinations.txt\", encoding='UTF-8')\n",
    "\n",
    "data = loader.load()\n",
    "\n",
    "from langchain.text_splitter import RecursiveCharacterTextSplitter\n",
    "\n",
    "text_splitter = RecursiveCharacterTextSplitter(chunk_size=500, chunk_overlap=0)\n",
    "all_splits = text_splitter.split_documents(data)"
   ]
  },
  {
   "cell_type": "code",
   "execution_count": 9,
   "metadata": {},
   "outputs": [],
   "source": [
    "from langchain.vectorstores import Chroma\n",
    "from langchain.embeddings import GPT4AllEmbeddings\n",
    "\n",
    "vectorstore = Chroma.from_documents(documents=all_splits, embedding=embed_model)"
   ]
  },
  {
   "cell_type": "code",
   "execution_count": 10,
   "metadata": {},
   "outputs": [
    {
     "data": {
      "text/plain": [
       "[Document(page_content='India:Mumbai:Sanjay Gandhi National Park\\n    Location: Northern suburbs of Mumbai.\\n    Time to Spend: Half-day to Full-day.\\n    Tags: Nature, Wildlife, Adventure.\\n    Postal Code: 400066.', metadata={'source': '../data/destinations.txt'}),\n",
       " Document(page_content='India:Mumbai:Chhatrapati Shivaji Maharaj Vastu Sangrahalaya (Formerly the Prince of Wales Museum)\\n    Location: Fort.\\n    Time to Spend: 2-3 hours.\\n    Tags: Cultural, Historical, Educational.\\n    Postal Code: 400023.\\n\\nIndia:Mumbai:Marine Drive and Chowpatty Beach\\n    Location: Along the coast, starting from Nariman Point to Malabar Hill.\\n    Time to Spend: 1-2 hours.\\n    Tags: Scenic Views, Relaxation, Local Cuisine.\\n    Postal Code: Marine Drive 400020, Chowpatty 400007.', metadata={'source': '../data/destinations.txt'}),\n",
       " Document(page_content='India:Mumbai:Juhu Beach\\n    Location: Juhu.\\n    Time to Spend: 1-3 hours.\\n    Tags: Beach, Local Cuisine, Sunset Views.\\n    Postal Code: 400049.\\n\\nIndia:Mumbai:Colaba Causeway Market\\n    Location: Colaba.\\n    Time to Spend: 1-2 hours.\\n    Tags: Shopping, Local Cuisine, Urban Exploration.\\n    Postal Code: 400005.', metadata={'source': '../data/destinations.txt'}),\n",
       " Document(page_content='India:Mumbai:Haji Ali Dargah\\n    Location: Islet off the coast of Worli.\\n    Time to Spend: 1-2 hours.\\n    Tags: Religious, Historical, Architectural.\\n    Postal Code: 400026.\\n\\nIndia:Mumbai:Bandra-Worli Sea Link\\n    Location: Connects Bandra in the Western Suburbs of Mumbai with Worli in South Mumbai.\\n    Time to Spend: View from nearby or drive across.\\n    Tags: Modern Engineering, Scenic Drive.\\n    Postal Code: Bandra side 400050, Worli side 400030.', metadata={'source': '../data/destinations.txt'})]"
      ]
     },
     "execution_count": 10,
     "metadata": {},
     "output_type": "execute_result"
    }
   ],
   "source": [
    "question = \"What are places to visit in Mumbai?\"\n",
    "docs = vectorstore.similarity_search(question)\n",
    "docs"
   ]
  },
  {
   "cell_type": "code",
   "execution_count": 11,
   "metadata": {},
   "outputs": [],
   "source": [
    "from langchain.embeddings import LlamaCppEmbeddings\n",
    "from langchain.llms import LlamaCpp\n",
    "from langchain.callbacks.manager import CallbackManager\n",
    "from langchain.callbacks.streaming_stdout import StreamingStdOutCallbackHandler\n",
    "n_gpu_layers = 32 \n",
    "n_batch = 512\n",
    "callback_manager = CallbackManager([StreamingStdOutCallbackHandler()])"
   ]
  },
  {
   "cell_type": "code",
   "execution_count": 12,
   "metadata": {},
   "outputs": [
    {
     "name": "stderr",
     "output_type": "stream",
     "text": [
      "/home/varadh/CS_5170/New_ZaWarudoWanderers/.venv/lib/python3.10/site-packages/langchain_core/utils/utils.py:159: UserWarning: WARNING! max_new_tokens is not default parameter.\n",
      "                max_new_tokens was transferred to model_kwargs.\n",
      "                Please confirm that max_new_tokens is what you intended.\n",
      "  warnings.warn(\n"
     ]
    }
   ],
   "source": [
    "llm = LlamaCpp(\n",
    "    model_path=\"../models/llama-2-7b-chat.Q8_0.gguf\",\n",
    "    n_gpu_layers=n_gpu_layers,\n",
    "    n_batch=n_batch,\n",
    "    n_ctx=2048,\n",
    "    f16_kv=True,  # MUST set to True, otherwise you will run into problem after a couple of calls\n",
    "    callback_manager=callback_manager,\n",
    "    verbose=False,\n",
    "    max_new_tokens=2048\n",
    ")"
   ]
  },
  {
   "cell_type": "code",
   "execution_count": 13,
   "metadata": {},
   "outputs": [],
   "source": [
    "from langchain.chains import RetrievalQA\n",
    "\n",
    "rag_pipeline = RetrievalQA.from_chain_type(\n",
    "    llm=llm, chain_type='stuff',\n",
    "    retriever=vectorstore.as_retriever()\n",
    ")"
   ]
  },
  {
   "cell_type": "code",
   "execution_count": 14,
   "metadata": {},
   "outputs": [
    {
     "name": "stderr",
     "output_type": "stream",
     "text": [
      "/home/varadh/CS_5170/New_ZaWarudoWanderers/.venv/lib/python3.10/site-packages/langchain_core/_api/deprecation.py:117: LangChainDeprecationWarning: The function `__call__` was deprecated in LangChain 0.1.0 and will be removed in 0.2.0. Use invoke instead.\n",
      "  warn_deprecated(\n"
     ]
    },
    {
     "name": "stdout",
     "output_type": "stream",
     "text": [
      " Sure! Based on the information provided, here's a suggested 4-day travel itinerary for Mumbai:\n",
      "Day 1: Nature and Wildlife\n",
      "* Start your day at Sanjay Gandhi National Park in the northern suburbs of Mumbai. Spend half a day exploring the park's diverse flora and fauna, including leopards, elephants, and over 200 species of birds.\n",
      "* Post lunch, head to Chhatrapati Shivaji Maharaj Vastu Sangrahalaya (Formerly the Prince of Wales Museum) in Fort to learn about Mumbai's rich cultural and historical heritage.\n",
      "Day 2: Scenic Views and Local Cuisine\n",
      "* Begin your day at Marine Drive and Chowpatty Beach, enjoying the scenic views of the Arabian Sea and taking a stroll along the promenade.\n",
      "* For lunch, try some local street food at Chowpatty Beach or nearby Juhu Beach.\n",
      "* In the evening, head to Elephanta Caves on Elephanta Island, accessible by ferry from Gateway of India. Explore"
     ]
    },
    {
     "data": {
      "text/plain": [
       "{'query': 'Give me a travel itinerary for a 4 day trip to Mumbai.',\n",
       " 'result': \" Sure! Based on the information provided, here's a suggested 4-day travel itinerary for Mumbai:\\nDay 1: Nature and Wildlife\\n* Start your day at Sanjay Gandhi National Park in the northern suburbs of Mumbai. Spend half a day exploring the park's diverse flora and fauna, including leopards, elephants, and over 200 species of birds.\\n* Post lunch, head to Chhatrapati Shivaji Maharaj Vastu Sangrahalaya (Formerly the Prince of Wales Museum) in Fort to learn about Mumbai's rich cultural and historical heritage.\\nDay 2: Scenic Views and Local Cuisine\\n* Begin your day at Marine Drive and Chowpatty Beach, enjoying the scenic views of the Arabian Sea and taking a stroll along the promenade.\\n* For lunch, try some local street food at Chowpatty Beach or nearby Juhu Beach.\\n* In the evening, head to Elephanta Caves on Elephanta Island, accessible by ferry from Gateway of India. Explore\"}"
      ]
     },
     "execution_count": 14,
     "metadata": {},
     "output_type": "execute_result"
    }
   ],
   "source": [
    "rag_pipeline(\"Give me a travel itinerary for a 4 day trip to Mumbai.\")"
   ]
  },
  {
   "cell_type": "code",
   "execution_count": null,
   "metadata": {},
   "outputs": [],
   "source": [
    "gr.ChatInterface(\n",
    "    fn = llm_function,\n",
    "    title=title,\n",
    "    examples=examples\n",
    ").launch()"
   ]
  }
 ],
 "metadata": {
  "kernelspec": {
   "display_name": ".venv",
   "language": "python",
   "name": "python3"
  },
  "language_info": {
   "codemirror_mode": {
    "name": "ipython",
    "version": 3
   },
   "file_extension": ".py",
   "mimetype": "text/x-python",
   "name": "python",
   "nbconvert_exporter": "python",
   "pygments_lexer": "ipython3",
   "version": "3.10.12"
  }
 },
 "nbformat": 4,
 "nbformat_minor": 2
}
