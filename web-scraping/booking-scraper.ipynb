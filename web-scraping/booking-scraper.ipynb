{
 "cells": [
  {
   "cell_type": "code",
   "execution_count": 39,
   "metadata": {},
   "outputs": [],
   "source": [
    "from bs4 import BeautifulSoup\n",
    "import requests"
   ]
  },
  {
   "cell_type": "code",
   "execution_count": 40,
   "metadata": {},
   "outputs": [
    {
     "name": "stdout",
     "output_type": "stream",
     "text": [
      "200\n"
     ]
    }
   ],
   "source": [
    "\n",
    "headers={\"User-Agent\":\"Mozilla/5.0 (Windows NT 10.0; Win64; x64) AppleWebKit/537.36 (KHTML, like Gecko) Chrome/107.0.0.0 Safari/537.36\"}\n",
    "target_url = \"https://www.booking.com/hotel/us/the-lenox.html?checkin=2022-12-28&checkout=2022-12-29&group_adults=2&group_children=0&no_rooms=1&selected_currency=USD\"\n",
    "resp = requests.get(target_url, headers=headers)\n",
    "print(resp.status_code)"
   ]
  },
  {
   "cell_type": "code",
   "execution_count": 56,
   "metadata": {},
   "outputs": [],
   "source": [
    "def scrape(url):\n",
    "    l=list()\n",
    "    g=list()\n",
    "    o={}\n",
    "    k={}\n",
    "    fac=[]\n",
    "    fac_arr=[]\n",
    "\n",
    "    resp = requests.get(url, headers=headers)\n",
    "    soup = BeautifulSoup(resp.text, 'html.parser')\n",
    "    o[\"name\"]=soup.find(\"h2\",{\"class\":\"pp-header__title\"}).text\n",
    "    o[\"address\"]=soup.find(\"span\",{\"class\":\"hp_address_subtitle\"}).text.strip(\"\\n\")\n",
    "    outer_div=soup.find(\"div\",{\"class\":\"a3b8729ab1 d86cee9b25\"})\n",
    "    contents = outer_div.contents\n",
    "    o[\"rating\"] = contents[0].strip()\n",
    "    o[\"stars\"] = len(soup.find(\"span\",{\"class\":\"a455730030 d542f184f1\"}).contents)\n",
    "    \n",
    "\n",
    "    fac=soup.find_all(\"span\",{\"class\":\"a5a5a75131\"})\n",
    "    for i in range(0,len(fac)):\n",
    "        fac_arr.append(fac[i].text.strip(\"\\n\"))\n",
    "    ids= list()\n",
    "    targetId=list()\n",
    "    try:\n",
    "        tr = soup.find_all(\"tr\")\n",
    "    except:\n",
    "        tr = None\n",
    "    for y in range(0,len(tr)):\n",
    "        try:\n",
    "            id = tr[y].get('data-block-id')\n",
    "        except:\n",
    "            id = None\n",
    "        if( id is not None):\n",
    "            ids.append(id)\n",
    "    print(\"ids are \",len(ids))\n",
    "    for i in range(0,len(ids)):\n",
    "        try:\n",
    "            allData = soup.find(\"tr\",{\"data-block-id\":ids[i]})\n",
    "            try:\n",
    "                rooms = allData.find(\"span\",{\"class\":\"hprt-roomtype-icon-link\"})\n",
    "            except:\n",
    "                rooms=None\n",
    "            if(rooms is not None):\n",
    "                last_room = rooms.text.replace(\"\\n\",\"\")\n",
    "            try:\n",
    "                k[\"room\"]=rooms.text.replace(\"\\n\",\"\")\n",
    "            except:\n",
    "                k[\"room\"]=last_room\n",
    "            price = allData.find(\"div\",{\"class\":\"bui-price-display__value prco-text-nowrap-helper prco-inline-block-maker-helper prco-f-font-heading\"})\n",
    "            k[\"price\"]=price.text.replace(\"\\n\",\"\")\n",
    "            g.append(k)\n",
    "            k={}\n",
    "        except:\n",
    "            k[\"room\"]=None\n",
    "            k[\"price\"]=None\n",
    "\n",
    "    location_blocks = soup.find_all('div', class_='dc5041d860 c72df67c95 fb60b9836d')\n",
    "\n",
    "    # Find all distance blocks\n",
    "    distance_blocks = soup.find_all('div', class_='a53cbfa6de f45d8e4c32 c875b9e968')\n",
    "\n",
    "    # Assuming each location block corresponds to a distance block in order\n",
    "    locations_and_distances = []\n",
    "    for location, distance in zip(location_blocks, distance_blocks):\n",
    "        location_name = location.get_text().strip()\n",
    "        distance_text = distance.get_text().strip()\n",
    "        locations_and_distances.append((location_name, distance_text))\n",
    "       \n",
    "\n",
    "    l.append(g)\n",
    "    l.append(o)\n",
    "    l.append(fac_arr)\n",
    "    l.append(locations_and_distances)\n",
    "    return l"
   ]
  },
  {
   "cell_type": "code",
   "execution_count": 58,
   "metadata": {},
   "outputs": [
    {
     "name": "stdout",
     "output_type": "stream",
     "text": [
      "ids are  4\n",
      "[[{'room': 'Standard Twin Room - Non-Smoking', 'price': 'US$1,049'}, {'room': 'Standard Twin Room - Non-Smoking', 'price': 'US$1,244'}, {'room': 'Standard Twin Room - Non-Smoking', 'price': 'US$1,146'}], {'name': 'karaksa hotel grande Shin-Osaka Tower', 'address': '532-0003 Osaka Prefecture, Osaka, Yodogawa-ku Miyahara 3-3-24, Japan', 'rating': '8.7', 'stars': 4}, ['Non-smoking rooms', 'Facilities for disabled guests', 'Free WiFi', 'Restaurant', '24-hour front desk', 'Lift', 'Luggage storage', 'Heating', 'Daily housekeeping', 'Very good breakfast', 'Non-smoking rooms', 'Facilities for disabled guests', 'Free WiFi', 'Restaurant', '24-hour front desk', 'Lift', 'Luggage storage', 'Heating', 'Daily housekeeping', 'Very good breakfast', 'Toilet paper', 'Towels', 'Bidet', 'Slippers', 'Private bathroom', 'Toilet', 'Free toiletries', 'Hairdryer', 'Shower', 'Linen', 'Alarm clock', 'Extra long beds (> 2 metres)', 'Electric kettle', 'Refrigerator', 'Socket near the bed', 'Clothes rack', 'Flat-screen TV', 'Telephone', 'TV', 'Kid-friendly buffet', 'Restaurant', 'Daily housekeeping', 'Vending machine (drinks)', 'Trouser press', 'Luggage storage', 'Currency exchange', 'Wake up service/Alarm clock', '24-hour front desk', 'Fire extinguishers', 'CCTV outside property', 'CCTV in common areas', 'Smoke alarms', 'Security alarm', 'Key card access', '24-hour security', 'Designated smoking area', 'Air conditioning', 'Heating', 'Soundproofing', 'Soundproof rooms', 'Lift', 'Facilities for disabled guests', 'Non-smoking rooms', 'Emergency cord in bathroom', 'Lower bathroom sink', 'Toilet with grab rails', 'Wheelchair accessible', 'Upper floors accessible by elevator', 'Public Bath', 'Sauna', 'English', 'Japanese', 'Korean', 'Chinese'], []]\n"
     ]
    }
   ],
   "source": [
    "target_url2 = \"https://www.booking.com/hotel/jp/villa-fontaine-grand-tokyo-ariake.html?aid=304142&label=gen173nr-1FCAEoggI46AdIM1gEaJgCiAEBmAEhuAEHyAEM2AEB6AEB-AELiAIBqAIDuALp34ewBsACAdICJGIyMTY0NTZkLTA4ZmYtNGI2Yy1iNjlmLWNjYWVmNDQ3YTBkY9gCBuACAQ&sid=93001eae5bdb2370c073f0a3e1ca7ead&all_sr_blocks=583523559_309180516_2_42_0&checkin=2024-04-12&checkout=2024-04-20&dest_id=-246227&dest_type=city&group_adults=2&group_children=0&hapos=1&highlighted_blocks=583523559_309180516_2_42_0&hpos=1&matching_block_id=583523559_309180516_2_42_0&no_rooms=1&req_adults=2&req_children=0&room1=A%2CA&sb_price_type=total&sr_order=popularity&sr_pri_blocks=583523559_309180516_2_42_0__32524000&srepoch=1711403033&srpvid=b7cb98c74ffa0050&type=total&ucfs=1&#hotelTmpl\"\n",
    "target_url3 = \"https://www.booking.com/hotel/jp/karaksa-hotel-grande-shin-osaka-tower.html?aid=304142&label=gen173nr-1FCAQoggJCDHNlYXJjaF9vc2FrYUgxWARomAKIAQGYATG4AQfIAQzYAQHoAQH4AQOIAgGoAgO4Ap6Pl7AGwAIB0gIkNTJjMWY2OWEtZTQ4ZS00YjM5LTg4ZmQtNzQ1MDllNGQ5ODM52AIF4AIB&sid=93001eae5bdb2370c073f0a3e1ca7ead&all_sr_blocks=466033402_387098578_2_0_0;checkin=2024-04-01;checkout=2024-04-09;dist=0;group_adults=2;group_children=0;hapos=1;highlighted_blocks=466033402_387098578_2_0_0;hpos=1;matching_block_id=466033402_387098578_2_0_0;nflt=price%3DUSD-min-max-1;no_rooms=1;req_adults=2;req_children=0;room1=A%2CA;sb_price_type=total;sr_order=popularity;sr_pri_blocks=466033402_387098578_2_0_0__15876000;srepoch=1711657772;srpvid=e9e08b089d2e00ea;type=total;ucfs=1&#hotelTmpl\"\n",
    "\n",
    "l =scrape(target_url3)\n",
    "print(l)"
   ]
  },
  {
   "cell_type": "code",
   "execution_count": 64,
   "metadata": {},
   "outputs": [],
   "source": [
    "def scrape_hotels(city, checkin_date, checkout_date, adults = 2, children = 0, min_price = \"min\", max_price = \"max\"):\n",
    "    url = f\"https://www.booking.com/searchresults.html?ss={city}&lang=en-us&sb=1&src_elem=sb&src=index&checkin={checkin_date}&checkout={checkout_date}&group_adults={adults}&no_rooms=1&group_children={children}&nflt=price%3DUSD-{min_price}-{max_price}-1\"\n",
    "    headers = {\n",
    "        \"User-Agent\": \"Mozilla/5.0 (Windows NT 10.0; Win64; x64) AppleWebKit/537.36 (KHTML, like Gecko) Chrome/107.0.0.0 Safari/537.36\"\n",
    "    }\n",
    "    print(url)\n",
    "    resp = requests.get(url, headers=headers)\n",
    "    soup = BeautifulSoup(resp.text, 'html.parser')\n",
    "    hotels = soup.find_all('a', class_='a78ca197d0')\n",
    "    hotel_links = [link['href'] for link in hotels]\n",
    "    return hotel_links"
   ]
  },
  {
   "cell_type": "code",
   "execution_count": 74,
   "metadata": {},
   "outputs": [
    {
     "name": "stdout",
     "output_type": "stream",
     "text": [
      "https://www.booking.com/searchresults.html?ss=Paris&lang=en-us&sb=1&src_elem=sb&src=index&checkin=2024-05-01&checkout=2024-05-10&group_adults=2&no_rooms=1&group_children=0&nflt=price%3DUSD-min-max-1\n"
     ]
    }
   ],
   "source": [
    "hotels = scrape_hotels(\"Paris\", \"2024-05-01\", \"2024-05-10\", 2, 0, m)\n"
   ]
  },
  {
   "cell_type": "code",
   "execution_count": 75,
   "metadata": {},
   "outputs": [
    {
     "name": "stdout",
     "output_type": "stream",
     "text": [
      "https://www.booking.com/hotel/fr/paris-j-39-adore-amp-spa.html?aid=304142&label=gen173nr-1FCAQoggJCDHNlYXJjaF9wYXJpc0gxWARomAKIAQGYATG4ARfIAQzYAQHoAQH4AQOIAgGoAgO4AvjFrLAGwAIB0gIkYmVlZmU1OTMtMDgxOC00ZWE4LWE2MDctYjIwMmZiNjFmMTdi2AIF4AIB&ucfs=1&arphpl=1&checkin=2024-05-01&checkout=2024-05-10&group_adults=2&req_adults=2&no_rooms=1&group_children=0&req_children=0&hpos=1&hapos=1&sr_order=popularity&nflt=price%3DUSD-min-max-1&srpvid=d57194fcaa17006e&srepoch=1712005882&all_sr_blocks=713048601_298165938_0_2_0&highlighted_blocks=713048601_298165938_0_2_0&matching_block_id=713048601_298165938_0_2_0&sr_pri_blocks=713048601_298165938_0_2_0__496638&from_sustainable_property_sr=1&from=searchresults#hotelTmpl\n"
     ]
    }
   ],
   "source": [
    "print(hotels[0])"
   ]
  },
  {
   "cell_type": "code",
   "execution_count": 76,
   "metadata": {},
   "outputs": [
    {
     "name": "stdout",
     "output_type": "stream",
     "text": [
      "ids are  15\n",
      "[[{'room': 'Classic - Elegant with Jacuzzi', 'price': 'US$4,738'}, {'room': 'Classic - Elegant with Jacuzzi', 'price': 'US$5,351'}, {'room': 'Classic - Elegant with Jacuzzi', 'price': 'US$5,171'}, {'room': 'Superior - Boudoir with Jacuzzi', 'price': 'US$5,449'}, {'room': 'Superior - Boudoir with Jacuzzi', 'price': 'US$6,062'}, {'room': 'Superior - Boudoir with Jacuzzi', 'price': 'US$5,881'}, {'room': 'Deluxe - Precious with Jacuzzi', 'price': 'US$5,922'}, {'room': 'Deluxe - Precious with Jacuzzi', 'price': 'US$6,535'}, {'room': 'Deluxe - Precious with Jacuzzi', 'price': 'US$6,355'}, {'room': 'Deluxe - Passion with Jacuzzi', 'price': 'US$6,159'}, {'room': 'Deluxe - Passion with Jacuzzi', 'price': 'US$6,772'}, {'room': 'Deluxe - Passion with Jacuzzi', 'price': 'US$6,592'}, {'room': 'Prestige – Sublime with Jacuzzi', 'price': 'US$7,344'}, {'room': 'Prestige – Sublime with Jacuzzi', 'price': 'US$7,957'}, {'room': 'Prestige – Sublime with Jacuzzi', 'price': 'US$7,777'}], {'name': \"Paris j'Adore Hotel & Spa\", 'address': '7 rue Beudant, 17th arr., 75017 Paris, France', 'rating': '9.0', 'stars': 5}, ['Indoor swimming pool', 'Non-smoking rooms', 'Facilities for disabled guests', 'Spa and wellness centre', 'Room service', 'Restaurant', 'Free WiFi', 'Tea/coffee maker in all rooms', 'Bar', 'Good breakfast', 'Indoor swimming pool', 'Non-smoking rooms', 'Facilities for disabled guests', 'Spa and wellness centre', 'Room service', 'Restaurant', 'Free WiFi', 'Tea/coffee maker in all rooms', 'Bar', 'Good breakfast', 'Towels', 'Bath or shower', 'Slippers', 'Private bathroom', 'Toilet', 'Free toiletries', 'Bathrobe', 'Hairdryer', 'Wardrobe or closet', 'Alarm clock', 'City view', 'Terrace', 'Coffee machine', 'Electric kettle', 'Socket near the bed', 'Live music/performance', 'Desk', 'Streaming service (like Netflix)', 'iPad', 'Flat-screen TV', 'Cable channels', 'Satellite channels', 'Video', 'Radio', 'Telephone', 'TV', 'Fruits', 'Wine/champagne', 'Special diet menus (on request)', 'Snack bar', 'Breakfast in the room', 'Bar', 'Minibar', 'Restaurant', 'Tea/Coffee maker', 'Invoice provided', 'Private check-in/check-out', 'Concierge service', 'Luggage storage', 'Express check-in/check-out', '24-hour front desk', 'Daily housekeeping', 'Ironing service', 'Dry cleaning', 'Laundry', 'Fax/photocopying', 'Fire extinguishers', 'CCTV in common areas', 'Smoke alarms', 'Security alarm', 'Key card access', '24-hour security', 'Safety deposit box', 'Adult only', 'Air conditioning', 'Non-smoking throughout', 'Wake-up service', 'Heating', 'Soundproofing', 'Soundproof rooms', 'Lift', 'Ironing facilities', 'Facilities for disabled guests', 'Non-smoking rooms', 'Iron', 'Wake up service/Alarm clock', 'Room service', 'Visual aids: Tactile signs', 'Wheelchair accessible', 'Upper floors accessible by elevator', 'Opening times', 'Open all year', 'Adult only', 'Full body massage', 'Couples massage', 'Hammam', 'Hot tub/Jacuzzi', 'Massage', 'Spa and wellness centre', 'Sauna', 'Arabic', 'English', 'Spanish', 'French', 'Italian', 'Portuguese', 'Serbian', 'Chinese'], []]\n"
     ]
    }
   ],
   "source": [
    "print(scrape(hotels[0]))"
   ]
  },
  {
   "cell_type": "code",
   "execution_count": null,
   "metadata": {},
   "outputs": [],
   "source": []
  }
 ],
 "metadata": {
  "kernelspec": {
   "display_name": "base",
   "language": "python",
   "name": "python3"
  },
  "language_info": {
   "codemirror_mode": {
    "name": "ipython",
    "version": 3
   },
   "file_extension": ".py",
   "mimetype": "text/x-python",
   "name": "python",
   "nbconvert_exporter": "python",
   "pygments_lexer": "ipython3",
   "version": "3.9.13"
  },
  "orig_nbformat": 4,
  "vscode": {
   "interpreter": {
    "hash": "1fb2cfaa0d73e73f44b6b1563ac19fe822a7ee09c64df8d4dd703b9d43dc9a98"
   }
  }
 },
 "nbformat": 4,
 "nbformat_minor": 2
}
