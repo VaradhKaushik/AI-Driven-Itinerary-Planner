{
 "cells": [
  {
   "cell_type": "code",
   "execution_count": 4,
   "metadata": {},
   "outputs": [],
   "source": [
    "import requests"
   ]
  },
  {
   "cell_type": "code",
   "execution_count": 16,
   "metadata": {},
   "outputs": [],
   "source": [
    "API_KEY = open('key.txt', 'r').readline()\n"
   ]
  },
  {
   "cell_type": "code",
   "execution_count": 8,
   "metadata": {},
   "outputs": [],
   "source": [
    "def get_directions(origin, destination, mode=\"driving\", waypoints=None, optimize_waypoints=False):\n",
    "    origin = origin.replace(\" \", \"+\")\n",
    "    destination = destination.replace(\" \", \"+\")\n",
    "    routes = f\"https://maps.googleapis.com/maps/api/directions/json?origin={origin}&destination={destination}&mode={mode}&key={API_KEY}\"\n",
    "    if waypoints:\n",
    "        waypoints = \"|\".join(waypoints) \n",
    "        waypoints.replace(\" \", \"+\")\n",
    "        if optimize_waypoints:\n",
    "            waypoints = f\"optimize:true|{waypoints}\"\n",
    "        routes += f\"&waypoints={waypoints}\"\n",
    "    resp = requests.get(routes)\n",
    "    return resp.json()\n"
   ]
  },
  {
   "cell_type": "code",
   "execution_count": 10,
   "metadata": {},
   "outputs": [
    {
     "name": "stdout",
     "output_type": "stream",
     "text": [
      "{'geocoded_waypoints': [{'geocoder_status': 'OK', 'place_id': 'ChIJx52OaUV644kRWgv4f0ASa5c', 'types': ['street_address']}, {'geocoder_status': 'OK', 'place_id': 'ChIJ4VzPmRl644kRw5bUbgV-4UY', 'types': ['establishment', 'library', 'point_of_interest']}], 'routes': [{'bounds': {'northeast': {'lat': 42.3405132, 'lng': -71.0622253}, 'southwest': {'lat': 42.3246882, 'lng': -71.0880949}}, 'copyrights': 'Map data ©2024 Google', 'legs': [{'distance': {'text': '2.0 mi', 'value': 3238}, 'duration': {'text': '46 mins', 'value': 2783}, 'end_address': '360 Huntington Ave, Boston, MA 02115, USA', 'end_location': {'lat': 42.3387634, 'lng': -71.0880949}, 'start_address': '4 Lucy St, Dorchester, MA 02125, USA', 'start_location': {'lat': 42.3247368, 'lng': -71.062277}, 'steps': [{'distance': {'text': '56 ft', 'value': 17}, 'duration': {'text': '1 min', 'value': 13}, 'end_location': {'lat': 42.324813, 'lng': -71.06225239999999}, 'html_instructions': 'Head <b>southwest</b> on <b>Lucy St</b>', 'polyline': {'points': 'spiaGfjvpLCCGEAB'}, 'start_location': {'lat': 42.3247368, 'lng': -71.062277}, 'travel_mode': 'WALKING'}, {'distance': {'text': '436 ft', 'value': 133}, 'duration': {'text': '2 mins', 'value': 107}, 'end_location': {'lat': 42.32556, 'lng': -71.06355529999999}, 'html_instructions': 'Turn <b>right</b> toward <b>Allstate Rd</b>', 'maneuver': 'turn-right', 'polyline': {'points': 'aqiaG`jvpLGPCHFDVPBBADABA@IJY`@a@n@CBEBC@GF]b@SVKLACCCGN'}, 'start_location': {'lat': 42.324813, 'lng': -71.06225239999999}, 'travel_mode': 'WALKING'}, {'distance': {'text': '115 ft', 'value': 35}, 'duration': {'text': '1 min', 'value': 29}, 'end_location': {'lat': 42.3253748, 'lng': -71.0639001}, 'html_instructions': 'Turn <b>left</b> onto <b>Allstate Rd</b>', 'maneuver': 'turn-left', 'polyline': {'points': 'wuiaGfrvpLDDBFZt@'}, 'start_location': {'lat': 42.32556, 'lng': -71.06355529999999}, 'travel_mode': 'WALKING'}, {'distance': {'text': '184 ft', 'value': 56}, 'duration': {'text': '1 min', 'value': 47}, 'end_location': {'lat': 42.3257473, 'lng': -71.0642706}, 'html_instructions': 'Turn <b>right</b>', 'maneuver': 'turn-right', 'polyline': {'points': 'qtiaGjtvpLWRBFw@l@'}, 'start_location': {'lat': 42.3253748, 'lng': -71.0639001}, 'travel_mode': 'WALKING'}, {'distance': {'text': '62 ft', 'value': 19}, 'duration': {'text': '1 min', 'value': 16}, 'end_location': {'lat': 42.3256485, 'lng': -71.0644559}, 'html_instructions': 'Turn <b>left</b> toward <b>Massachusetts Ave</b>', 'maneuver': 'turn-left', 'polyline': {'points': '}viaGtvvpLRd@'}, 'start_location': {'lat': 42.3257473, 'lng': -71.0642706}, 'travel_mode': 'WALKING'}, {'distance': {'text': '253 ft', 'value': 77}, 'duration': {'text': '1 min', 'value': 63}, 'end_location': {'lat': 42.3262199, 'lng': -71.06497949999999}, 'html_instructions': 'Turn <b>right</b> toward <b>Massachusetts Ave</b>', 'maneuver': 'turn-right', 'polyline': {'points': 'iviaGzwvpLsAjA]Z'}, 'start_location': {'lat': 42.3256485, 'lng': -71.0644559}, 'travel_mode': 'WALKING'}, {'distance': {'text': '325 ft', 'value': 99}, 'duration': {'text': '1 min', 'value': 82}, 'end_location': {'lat': 42.32578480000001, 'lng': -71.0658967}, 'html_instructions': 'Turn <b>left</b> toward <b>Massachusetts Ave</b>', 'maneuver': 'turn-left', 'polyline': {'points': '{yiaGb{vpLDHFLBFJRHTPd@\\\\fA'}, 'start_location': {'lat': 42.3262199, 'lng': -71.06497949999999}, 'travel_mode': 'WALKING'}, {'distance': {'text': '0.5 mi', 'value': 802}, 'duration': {'text': '11 mins', 'value': 672}, 'end_location': {'lat': 42.3318069, 'lng': -71.0712032}, 'html_instructions': 'Turn <b>right</b> onto <b>Massachusetts Ave</b><div style=\"font-size:0.9em\">Pass by McDonald\\'s (on the right in 0.5 mi)</div>', 'maneuver': 'turn-right', 'polyline': {'points': 'cwiaGz`wpL]T]VCDOJC@CBEDSNOJMDQRIHAAMJ]XED@@MJA@IFEBCBCBCBMHGD_@Ze@\\\\MJmA`AMJmA`AOJMLmA`AIFC@ML]XUPGDUPwAhAIFO`@KH]@g@`@INL\\\\@Bg@b@MHs@l@UJm@f@OJMJs@j@'}, 'start_location': {'lat': 42.32578480000001, 'lng': -71.0658967}, 'travel_mode': 'WALKING'}, {'distance': {'text': '0.5 mi', 'value': 834}, 'duration': {'text': '12 mins', 'value': 728}, 'end_location': {'lat': 42.3373378, 'lng': -71.0782195}, 'html_instructions': 'Slight <b>left</b> to stay on <b>Massachusetts Ave</b>', 'maneuver': 'turn-slight-left', 'polyline': {'points': 'y|jaG~axpLELOREFEFKRCFKNOTOVIPQZDFCFWn@ABGGSTILQ\\\\U\\\\EFQTUZc@j@GF@?a@d@CC{@fAQVCFGJKL]b@MNWZoA~AS\\\\ACSVY`@UNg@r@kBbCEFy@dAFJGBc@`@AAKLc@l@OPSTKLIJQRKNGH?@CBQV'}, 'start_location': {'lat': 42.3318069, 'lng': -71.0712032}, 'travel_mode': 'WALKING'}, {'distance': {'text': '436 ft', 'value': 133}, 'duration': {'text': '2 mins', 'value': 120}, 'end_location': {'lat': 42.33666669999999, 'lng': -71.0792444}, 'html_instructions': 'Turn <b>left</b> onto <b>Shawmut Ave</b>', 'maneuver': 'turn-left', 'polyline': {'points': 'k_laGzmypLFHVb@Tb@LN@DCDJNBCLVd@x@'}, 'start_location': {'lat': 42.3373378, 'lng': -71.0782195}, 'travel_mode': 'WALKING'}, {'distance': {'text': '0.4 mi', 'value': 579}, 'duration': {'text': '9 mins', 'value': 520}, 'end_location': {'lat': 42.3400919, 'lng': -71.0843368}, 'html_instructions': 'Turn <b>right</b> onto <b>Camden St</b>', 'maneuver': 'turn-right', 'polyline': {'points': 'e{kaGftypLBHILITCDe@r@_@p@KNMNwA|Bo@dAQVCDINMTe@v@EJ?ACHQZEJACCBGH{@xAg@x@]j@EJEHAAS^CFKLS^]l@EFCBQZKJILOXCF'}, 'start_location': {'lat': 42.33666669999999, 'lng': -71.0792444}, 'travel_mode': 'WALKING'}, {'distance': {'text': '62 ft', 'value': 19}, 'duration': {'text': '1 min', 'value': 18}, 'end_location': {'lat': 42.3402051, 'lng': -71.08451459999999}, 'html_instructions': 'Slight <b>right</b> toward <b>Gainsborough St</b>', 'maneuver': 'turn-slight-right', 'polyline': {'points': 'qplaGbtzpLEb@A?A?G?EA'}, 'start_location': {'lat': 42.3400919, 'lng': -71.0843368}, 'travel_mode': 'WALKING'}, {'distance': {'text': '167 ft', 'value': 51}, 'duration': {'text': '1 min', 'value': 46}, 'end_location': {'lat': 42.3405132, 'lng': -71.0849729}, 'html_instructions': 'Take the pedestrian overpass stairs<div style=\"font-size:0.9em\">Take the stairs</div>', 'polyline': {'points': 'iqlaGduzpLELYd@CBCFEFCBCDADCB'}, 'start_location': {'lat': 42.3402051, 'lng': -71.08451459999999}, 'travel_mode': 'WALKING'}, {'distance': {'text': '26 ft', 'value': 8}, 'duration': {'text': '1 min', 'value': 6}, 'end_location': {'lat': 42.34043020000001, 'lng': -71.08508139999999}, 'html_instructions': 'Turn <b>left</b> toward <b>Gainsborough St</b>', 'maneuver': 'turn-left', 'polyline': {'points': 'eslaG`xzpLNT'}, 'start_location': {'lat': 42.3405132, 'lng': -71.0849729}, 'travel_mode': 'WALKING'}, {'distance': {'text': '0.2 mi', 'value': 250}, 'duration': {'text': '3 mins', 'value': 203}, 'end_location': {'lat': 42.3387958, 'lng': -71.08689919999999}, 'html_instructions': 'Turn <b>left</b> onto <b>Gainsborough St</b>', 'maneuver': 'turn-left', 'polyline': {'points': 'urlaGvxzpLDG?A@@PHFJBHFFDFDDPTLL@BRRHJtAbBPRF@d@n@NRNRHNHL@D'}, 'start_location': {'lat': 42.34043020000001, 'lng': -71.08508139999999}, 'travel_mode': 'WALKING'}, {'distance': {'text': '39 ft', 'value': 12}, 'duration': {'text': '1 min', 'value': 11}, 'end_location': {'lat': 42.3388737, 'lng': -71.0870207}, 'html_instructions': 'Turn <b>right</b> at <b>Columbus Parking Garage Overpass</b>', 'maneuver': 'turn-right', 'polyline': {'points': 'ohlaGbd{pLELAAEJ'}, 'start_location': {'lat': 42.3387958, 'lng': -71.08689919999999}, 'travel_mode': 'WALKING'}, {'distance': {'text': '308 ft', 'value': 94}, 'duration': {'text': '1 min', 'value': 80}, 'end_location': {'lat': 42.3389016, 'lng': -71.0879456}, 'html_instructions': 'Turn <b>left</b>', 'maneuver': 'turn-left', 'polyline': {'points': '}hlaGzd{pLBFFH@B@B@D@D@H?L@D@FBB@BFH@FAF?BAFCBCDCDGFABA@ABCFCDCDABCD'}, 'start_location': {'lat': 42.3388737, 'lng': -71.0870207}, 'travel_mode': 'WALKING'}, {'distance': {'text': '66 ft', 'value': 20}, 'duration': {'text': '1 min', 'value': 22}, 'end_location': {'lat': 42.3387634, 'lng': -71.0880949}, 'html_instructions': 'Turn <b>left</b><div style=\"font-size:0.9em\">Take the stairs</div><div style=\"font-size:0.9em\">Destination will be on the left</div>', 'maneuver': 'turn-left', 'polyline': {'points': 'cilaGtj{pLVRBF'}, 'start_location': {'lat': 42.3389016, 'lng': -71.0879456}, 'travel_mode': 'WALKING'}], 'traffic_speed_entry': [], 'via_waypoint': []}], 'overview_polyline': {'points': 'spiaGfjvpLKIITCHFDZTOV{@pAIF}@dAKLACCCGNHLZt@WRBFw@l@Rd@sAjA]ZDHJTdAvCqBzA]P[\\\\OHc@^KLKHQNsGdF{D~C_ChBO`@KH]@g@`@INL\\\\@Bg@b@aAv@cAr@]Vs@j@ELUZQZo@dA[l@DFCFYr@GGST[j@[d@sAdB_@d@CC{@fAU^SXsCnDS\\\\ACm@x@UNg@r@qBjCy@dAFJk@d@MJs@~@{@bASXCDQVFHl@fANTCDJNBCLVh@bASb@i@x@qCnEoArBy@vAUd@EJACKLcBrCk@~@w@tAy@tAi@z@Ib@MA_@r@QVEJCBNTDI@@PHFJJPj@p@tBfCXTt@bAd@v@GJEJBFHLBHDb@NX?NAJSVIPMTZZ'}, 'summary': 'Massachusetts Ave', 'warnings': ['Walking directions are in beta. Use caution – This route may be missing sidewalks or pedestrian paths.'], 'waypoint_order': []}], 'status': 'OK'}\n"
     ]
    }
   ],
   "source": [
    "directions = get_directions(\"4 Lucy Street, Boston\", \"Snell Library, Boston\", mode=\"walking\")\n",
    "print(directions)"
   ]
  },
  {
   "cell_type": "code",
   "execution_count": 17,
   "metadata": {},
   "outputs": [],
   "source": [
    "def get_distance(origin, destination, mode=\"driving\"):\n",
    "    origin = origin.replace(\" \", \"+\")\n",
    "    destination = destination.replace(\" \", \"+\")\n",
    "    routes = f\"https://maps.googleapis.com/maps/api/distancematrix/json?units=metric&origins={origin}&destinations={destination}&mode={mode}&key={API_KEY}\"\n",
    "    resp = requests.get(routes)\n",
    "    return resp.json()"
   ]
  },
  {
   "cell_type": "code",
   "execution_count": 18,
   "metadata": {},
   "outputs": [
    {
     "name": "stdout",
     "output_type": "stream",
     "text": [
      "{'destination_addresses': ['Burlington, VT, USA'], 'origin_addresses': ['4 Lucy St, Dorchester, MA 02125, USA'], 'rows': [{'elements': [{'distance': {'text': '345 km', 'value': 344576}, 'duration': {'text': '3 days 7 hours', 'value': 283258}, 'status': 'OK'}]}], 'status': 'OK'}\n"
     ]
    }
   ],
   "source": [
    "distance = get_distance(\"4 Lucy Street, Boston\", \"Burlington, Vermont\", mode=\"walking\")\n",
    "print(distance)"
   ]
  },
  {
   "cell_type": "code",
   "execution_count": null,
   "metadata": {},
   "outputs": [],
   "source": []
  }
 ],
 "metadata": {
  "kernelspec": {
   "display_name": "base",
   "language": "python",
   "name": "python3"
  },
  "language_info": {
   "codemirror_mode": {
    "name": "ipython",
    "version": 3
   },
   "file_extension": ".py",
   "mimetype": "text/x-python",
   "name": "python",
   "nbconvert_exporter": "python",
   "pygments_lexer": "ipython3",
   "version": "3.9.13"
  },
  "orig_nbformat": 4,
  "vscode": {
   "interpreter": {
    "hash": "1fb2cfaa0d73e73f44b6b1563ac19fe822a7ee09c64df8d4dd703b9d43dc9a98"
   }
  }
 },
 "nbformat": 4,
 "nbformat_minor": 2
}
